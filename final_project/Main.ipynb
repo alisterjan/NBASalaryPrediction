{
 "cells": [
  {
   "cell_type": "markdown",
   "metadata": {},
   "source": [
    "# NBA Salary Prediction\n"
   ]
  },
  {
   "attachments": {},
   "cell_type": "markdown",
   "metadata": {},
   "source": [
    "<img src='https://www.mercurynews.com/wp-content/uploads/2020/03/BNG-L-WARRIORS-0306-7.jpg?w=525' style='float: center'>\n",
    "\n",
    "\n",
    "\n",
    "## Problem Statement: \n",
    "Over the past few years, NBA players have received large contracts -around 40 million usd annual -as compared to those in the 2000s, where the highest salary was 20 million USD. Are the players today overpaid? In addition, Power Forwards or Centers, positions that were previously known for dominating in the paint, are developing a 3-point shot. In fact, the players have evolved from those who were unstoppable in mid-range and inside the paint (Shaquille O'Neal, Kevin Garnett, Tim Duncan) to those with an outside touch (Karl-Anthony Towns, Anthony Davis, Kristap Porzingis). \n",
    "\n",
    "Is this a requirement to be able to succeed in today's game? \n",
    "\n",
    "\n",
    "## Objective:\n",
    "I am looking to predict the expected salary of a player based from his performance the past year and the historical dataset for the past 20 years. I believe there is a correlation between a player's performance and the contract they have, but there should be certain stats (features) that have a stronger correlation than others. \n",
    "\n",
    "## Assumptions:\n",
    "\n",
    "Players are accepting the largest contract they are offered by teams, instead of leaving money on the table. \n",
    "I am looking how well they perform on average per game from past last season.\n",
    "\n",
    "## Notes:\n",
    "\n",
    "Rookies' contracts are not included in this dataset, as they do not have participated in NBA games yet. "
   ]
  },
  {
   "cell_type": "markdown",
   "metadata": {},
   "source": [
    "### Steps Guide:\n",
    "- [Web Scraping](./WebScraping.ipynb)\n",
    "- [Cleaning Data](#data-cleaning)\n",
    "- [Machine Learning Models](#machine-learning) \n",
    " - [Linear Regression](#linear-regression)\n",
    " - [Random Forest Regression](#random-forest-regression)\n",
    " - [XGBoost Regression](#XGBoost-regression)\n",
    " - [Conclusion](#Conclusion)"
   ]
  },
  {
   "cell_type": "markdown",
   "metadata": {},
   "source": [
    "<a id=\"data-cleaning\"></a>\n",
    "## Cleaning the Data\n",
    "--- \n",
    "\n",
    "####  Combine the salary csv with the stats csv, and perform necessary changes."
   ]
  },
  {
   "cell_type": "code",
   "execution_count": 28,
   "metadata": {},
   "outputs": [],
   "source": [
    "#Import the necessary modules for the whole notebook\n",
    "import pandas as pd\n",
    "import matplotlib.pyplot as plt\n",
    "import numpy as np\n",
    "import seaborn as sns\n",
    "import cpi\n",
    "import xgboost as xgb\n",
    "from matplotlib.ticker import MaxNLocator\n",
    "from sklearn.linear_model import LinearRegression\n",
    "from sklearn.model_selection import train_test_split\n",
    "from sklearn.preprocessing import StandardScaler\n",
    "from sklearn.ensemble import RandomForestRegressor\n",
    "from sklearn.model_selection import cross_val_score\n",
    "from sklearn import model_selection\n",
    "from sklearn import metrics\n",
    "from xgboost import XGBRegressor\n",
    "from sklearn.model_selection import GridSearchCV\n",
    "%matplotlib inline\n",
    "\n",
    "\n",
    "plt.rcParams['figure.figsize'] = (15,6)\n",
    "plt.rcParams['font.size'] = 14"
   ]
  },
  {
   "cell_type": "code",
   "execution_count": 29,
   "metadata": {
    "scrolled": true
   },
   "outputs": [],
   "source": [
    "#Create Salary and Stats dataframe\n",
    "salary = pd.read_csv('./data/salary.csv')\n",
    "stats = pd.read_csv('./data/stats.csv')"
   ]
  },
  {
   "cell_type": "code",
   "execution_count": 30,
   "metadata": {},
   "outputs": [],
   "source": [
    "#Change those with special characters\n",
    "#Drop duplicates, for those were traded midway.\n",
    "stats = stats.drop_duplicates(['Player','Year'],keep='first',ignore_index=True) #Drop duplicates.\n",
    "stats['Player']=stats['Player'].str.replace('*','')#remove the asterisk\n",
    "stats['Player']=stats['Player'].str.replace('ć','c')#remove special characters\n",
    "stats['Player']=stats['Player'].str.replace('č','c')\n",
    "stats['Player']=stats['Player'].str.replace('á','a')\n",
    "stats['Player']=stats['Player'].str.replace('.','')\n",
    "\n",
    "#show salary in terms of millions.\n",
    "salary.Salary = salary.Salary/1000000"
   ]
  },
  {
   "cell_type": "markdown",
   "metadata": {},
   "source": [
    "#### Calculation Inflation Rate"
   ]
  },
  {
   "cell_type": "code",
   "execution_count": 31,
   "metadata": {
    "scrolled": false
   },
   "outputs": [],
   "source": [
    "#Account for inflation by using CPI Method\n",
    "\n",
    "def inflate(salary,year):\n",
    "    if year == 2020:\n",
    "        return salary\n",
    "    elif year == 2019:\n",
    "        return salary * 1.023\n",
    "    else:\n",
    "        return cpi.inflate(salary,year)\n",
    "\n",
    "def inflation_column(df,column):\n",
    "    \"\"\"\n",
    "    Adjust for inflation the series of values in column of the   \n",
    "    dataframe data\n",
    "    \"\"\"\n",
    "    return df.apply(lambda x: inflate(x[column],x.Year),axis=1)\n",
    "\n",
    "\n",
    "\n",
    "salary['Salary'] = inflation_column(salary,'Salary')\n",
    "\n",
    "#Verification\n",
    "# salary[salary.Player.str.contains('Shaq')]\n",
    "# salary[salary.Player.str.contains('Rudy Gobert')]"
   ]
  },
  {
   "cell_type": "code",
   "execution_count": 32,
   "metadata": {},
   "outputs": [
    {
     "data": {
      "text/html": [
       "<div>\n",
       "<style scoped>\n",
       "    .dataframe tbody tr th:only-of-type {\n",
       "        vertical-align: middle;\n",
       "    }\n",
       "\n",
       "    .dataframe tbody tr th {\n",
       "        vertical-align: top;\n",
       "    }\n",
       "\n",
       "    .dataframe thead th {\n",
       "        text-align: right;\n",
       "    }\n",
       "</style>\n",
       "<table border=\"1\" class=\"dataframe\">\n",
       "  <thead>\n",
       "    <tr style=\"text-align: right;\">\n",
       "      <th></th>\n",
       "      <th>Player</th>\n",
       "      <th>Year</th>\n",
       "      <th>Salary</th>\n",
       "    </tr>\n",
       "  </thead>\n",
       "  <tbody>\n",
       "    <tr>\n",
       "      <th>5637</th>\n",
       "      <td>Marvin Williams</td>\n",
       "      <td>2012</td>\n",
       "      <td>9.064040</td>\n",
       "    </tr>\n",
       "    <tr>\n",
       "      <th>7789</th>\n",
       "      <td>Kris Dunn</td>\n",
       "      <td>2016</td>\n",
       "      <td>4.051619</td>\n",
       "    </tr>\n",
       "    <tr>\n",
       "      <th>9387</th>\n",
       "      <td>Markelle Fultz</td>\n",
       "      <td>2019</td>\n",
       "      <td>9.969340</td>\n",
       "    </tr>\n",
       "    <tr>\n",
       "      <th>5964</th>\n",
       "      <td>Draymond Green</td>\n",
       "      <td>2012</td>\n",
       "      <td>0.929645</td>\n",
       "    </tr>\n",
       "    <tr>\n",
       "      <th>4577</th>\n",
       "      <td>Shelden Williams</td>\n",
       "      <td>2009</td>\n",
       "      <td>0.966211</td>\n",
       "    </tr>\n",
       "    <tr>\n",
       "      <th>8218</th>\n",
       "      <td>Alec Burks</td>\n",
       "      <td>2017</td>\n",
       "      <td>11.110405</td>\n",
       "    </tr>\n",
       "    <tr>\n",
       "      <th>6501</th>\n",
       "      <td>Ian Clark</td>\n",
       "      <td>2013</td>\n",
       "      <td>0.528371</td>\n",
       "    </tr>\n",
       "    <tr>\n",
       "      <th>4813</th>\n",
       "      <td>Nikola Pekovic</td>\n",
       "      <td>2010</td>\n",
       "      <td>4.606285</td>\n",
       "    </tr>\n",
       "    <tr>\n",
       "      <th>2021</th>\n",
       "      <td>Chris Kaman</td>\n",
       "      <td>2004</td>\n",
       "      <td>3.421968</td>\n",
       "    </tr>\n",
       "    <tr>\n",
       "      <th>2541</th>\n",
       "      <td>Vlade Divac</td>\n",
       "      <td>2005</td>\n",
       "      <td>2.571500</td>\n",
       "    </tr>\n",
       "  </tbody>\n",
       "</table>\n",
       "</div>"
      ],
      "text/plain": [
       "                Player  Year     Salary\n",
       "5637   Marvin Williams  2012   9.064040\n",
       "7789         Kris Dunn  2016   4.051619\n",
       "9387    Markelle Fultz  2019   9.969340\n",
       "5964    Draymond Green  2012   0.929645\n",
       "4577  Shelden Williams  2009   0.966211\n",
       "8218        Alec Burks  2017  11.110405\n",
       "6501         Ian Clark  2013   0.528371\n",
       "4813    Nikola Pekovic  2010   4.606285\n",
       "2021       Chris Kaman  2004   3.421968\n",
       "2541       Vlade Divac  2005   2.571500"
      ]
     },
     "execution_count": 32,
     "metadata": {},
     "output_type": "execute_result"
    }
   ],
   "source": [
    "salary.sample(n=10)"
   ]
  },
  {
   "cell_type": "code",
   "execution_count": 35,
   "metadata": {
    "scrolled": true
   },
   "outputs": [
    {
     "data": {
      "text/plain": [
       "Player    0\n",
       "Year      0\n",
       "Salary    0\n",
       "dtype: int64"
      ]
     },
     "execution_count": 35,
     "metadata": {},
     "output_type": "execute_result"
    }
   ],
   "source": [
    "#Ensure no null/missing values\n",
    "salary.isnull().sum()"
   ]
  },
  {
   "cell_type": "markdown",
   "metadata": {},
   "source": [
    "#### Let's check Steph Curry's stats!"
   ]
  },
  {
   "cell_type": "code",
   "execution_count": 36,
   "metadata": {},
   "outputs": [
    {
     "data": {
      "text/html": [
       "<div>\n",
       "<style scoped>\n",
       "    .dataframe tbody tr th:only-of-type {\n",
       "        vertical-align: middle;\n",
       "    }\n",
       "\n",
       "    .dataframe tbody tr th {\n",
       "        vertical-align: top;\n",
       "    }\n",
       "\n",
       "    .dataframe thead th {\n",
       "        text-align: right;\n",
       "    }\n",
       "</style>\n",
       "<table border=\"1\" class=\"dataframe\">\n",
       "  <thead>\n",
       "    <tr style=\"text-align: right;\">\n",
       "      <th></th>\n",
       "      <th>Player</th>\n",
       "      <th>Year</th>\n",
       "      <th>POS</th>\n",
       "      <th>Age</th>\n",
       "      <th>TM</th>\n",
       "      <th>GP</th>\n",
       "      <th>GS</th>\n",
       "      <th>MP</th>\n",
       "      <th>FGM</th>\n",
       "      <th>FGA</th>\n",
       "      <th>...</th>\n",
       "      <th>FT%</th>\n",
       "      <th>ORB</th>\n",
       "      <th>DRB</th>\n",
       "      <th>REB</th>\n",
       "      <th>AST</th>\n",
       "      <th>STL</th>\n",
       "      <th>BLK</th>\n",
       "      <th>TOV</th>\n",
       "      <th>PF</th>\n",
       "      <th>PTS</th>\n",
       "    </tr>\n",
       "  </thead>\n",
       "  <tbody>\n",
       "    <tr>\n",
       "      <th>4563</th>\n",
       "      <td>Stephen Curry</td>\n",
       "      <td>2010</td>\n",
       "      <td>PG</td>\n",
       "      <td>21</td>\n",
       "      <td>GSW</td>\n",
       "      <td>80</td>\n",
       "      <td>77</td>\n",
       "      <td>36.2</td>\n",
       "      <td>6.6</td>\n",
       "      <td>14.3</td>\n",
       "      <td>...</td>\n",
       "      <td>0.885</td>\n",
       "      <td>0.6</td>\n",
       "      <td>3.9</td>\n",
       "      <td>4.5</td>\n",
       "      <td>5.9</td>\n",
       "      <td>1.9</td>\n",
       "      <td>0.2</td>\n",
       "      <td>3.0</td>\n",
       "      <td>3.2</td>\n",
       "      <td>17.5</td>\n",
       "    </tr>\n",
       "    <tr>\n",
       "      <th>5007</th>\n",
       "      <td>Stephen Curry</td>\n",
       "      <td>2011</td>\n",
       "      <td>PG</td>\n",
       "      <td>22</td>\n",
       "      <td>GSW</td>\n",
       "      <td>74</td>\n",
       "      <td>74</td>\n",
       "      <td>33.6</td>\n",
       "      <td>6.8</td>\n",
       "      <td>14.2</td>\n",
       "      <td>...</td>\n",
       "      <td>0.934</td>\n",
       "      <td>0.7</td>\n",
       "      <td>3.2</td>\n",
       "      <td>3.9</td>\n",
       "      <td>5.8</td>\n",
       "      <td>1.5</td>\n",
       "      <td>0.3</td>\n",
       "      <td>3.1</td>\n",
       "      <td>3.1</td>\n",
       "      <td>18.6</td>\n",
       "    </tr>\n",
       "    <tr>\n",
       "      <th>5459</th>\n",
       "      <td>Stephen Curry</td>\n",
       "      <td>2012</td>\n",
       "      <td>PG</td>\n",
       "      <td>23</td>\n",
       "      <td>GSW</td>\n",
       "      <td>26</td>\n",
       "      <td>23</td>\n",
       "      <td>28.2</td>\n",
       "      <td>5.6</td>\n",
       "      <td>11.4</td>\n",
       "      <td>...</td>\n",
       "      <td>0.809</td>\n",
       "      <td>0.6</td>\n",
       "      <td>2.8</td>\n",
       "      <td>3.4</td>\n",
       "      <td>5.3</td>\n",
       "      <td>1.5</td>\n",
       "      <td>0.3</td>\n",
       "      <td>2.5</td>\n",
       "      <td>2.4</td>\n",
       "      <td>14.7</td>\n",
       "    </tr>\n",
       "    <tr>\n",
       "      <th>5932</th>\n",
       "      <td>Stephen Curry</td>\n",
       "      <td>2013</td>\n",
       "      <td>PG</td>\n",
       "      <td>24</td>\n",
       "      <td>GSW</td>\n",
       "      <td>78</td>\n",
       "      <td>78</td>\n",
       "      <td>38.2</td>\n",
       "      <td>8.0</td>\n",
       "      <td>17.8</td>\n",
       "      <td>...</td>\n",
       "      <td>0.900</td>\n",
       "      <td>0.8</td>\n",
       "      <td>3.3</td>\n",
       "      <td>4.0</td>\n",
       "      <td>6.9</td>\n",
       "      <td>1.6</td>\n",
       "      <td>0.2</td>\n",
       "      <td>3.1</td>\n",
       "      <td>2.5</td>\n",
       "      <td>22.9</td>\n",
       "    </tr>\n",
       "    <tr>\n",
       "      <th>6414</th>\n",
       "      <td>Stephen Curry</td>\n",
       "      <td>2014</td>\n",
       "      <td>PG</td>\n",
       "      <td>25</td>\n",
       "      <td>GSW</td>\n",
       "      <td>78</td>\n",
       "      <td>78</td>\n",
       "      <td>36.5</td>\n",
       "      <td>8.4</td>\n",
       "      <td>17.7</td>\n",
       "      <td>...</td>\n",
       "      <td>0.885</td>\n",
       "      <td>0.6</td>\n",
       "      <td>3.7</td>\n",
       "      <td>4.3</td>\n",
       "      <td>8.5</td>\n",
       "      <td>1.6</td>\n",
       "      <td>0.2</td>\n",
       "      <td>3.8</td>\n",
       "      <td>2.5</td>\n",
       "      <td>24.0</td>\n",
       "    </tr>\n",
       "    <tr>\n",
       "      <th>6896</th>\n",
       "      <td>Stephen Curry</td>\n",
       "      <td>2015</td>\n",
       "      <td>PG</td>\n",
       "      <td>26</td>\n",
       "      <td>GSW</td>\n",
       "      <td>80</td>\n",
       "      <td>80</td>\n",
       "      <td>32.7</td>\n",
       "      <td>8.2</td>\n",
       "      <td>16.8</td>\n",
       "      <td>...</td>\n",
       "      <td>0.914</td>\n",
       "      <td>0.7</td>\n",
       "      <td>3.6</td>\n",
       "      <td>4.3</td>\n",
       "      <td>7.7</td>\n",
       "      <td>2.0</td>\n",
       "      <td>0.2</td>\n",
       "      <td>3.1</td>\n",
       "      <td>2.0</td>\n",
       "      <td>23.8</td>\n",
       "    </tr>\n",
       "    <tr>\n",
       "      <th>7381</th>\n",
       "      <td>Stephen Curry</td>\n",
       "      <td>2016</td>\n",
       "      <td>PG</td>\n",
       "      <td>27</td>\n",
       "      <td>GSW</td>\n",
       "      <td>79</td>\n",
       "      <td>79</td>\n",
       "      <td>34.2</td>\n",
       "      <td>10.2</td>\n",
       "      <td>20.2</td>\n",
       "      <td>...</td>\n",
       "      <td>0.908</td>\n",
       "      <td>0.9</td>\n",
       "      <td>4.6</td>\n",
       "      <td>5.4</td>\n",
       "      <td>6.7</td>\n",
       "      <td>2.1</td>\n",
       "      <td>0.2</td>\n",
       "      <td>3.3</td>\n",
       "      <td>2.0</td>\n",
       "      <td>30.1</td>\n",
       "    </tr>\n",
       "    <tr>\n",
       "      <th>7850</th>\n",
       "      <td>Stephen Curry</td>\n",
       "      <td>2017</td>\n",
       "      <td>PG</td>\n",
       "      <td>28</td>\n",
       "      <td>GSW</td>\n",
       "      <td>79</td>\n",
       "      <td>79</td>\n",
       "      <td>33.4</td>\n",
       "      <td>8.5</td>\n",
       "      <td>18.3</td>\n",
       "      <td>...</td>\n",
       "      <td>0.898</td>\n",
       "      <td>0.8</td>\n",
       "      <td>3.7</td>\n",
       "      <td>4.5</td>\n",
       "      <td>6.6</td>\n",
       "      <td>1.8</td>\n",
       "      <td>0.2</td>\n",
       "      <td>3.0</td>\n",
       "      <td>2.3</td>\n",
       "      <td>25.3</td>\n",
       "    </tr>\n",
       "    <tr>\n",
       "      <th>8358</th>\n",
       "      <td>Stephen Curry</td>\n",
       "      <td>2018</td>\n",
       "      <td>PG</td>\n",
       "      <td>29</td>\n",
       "      <td>GSW</td>\n",
       "      <td>51</td>\n",
       "      <td>51</td>\n",
       "      <td>32.0</td>\n",
       "      <td>8.4</td>\n",
       "      <td>16.9</td>\n",
       "      <td>...</td>\n",
       "      <td>0.921</td>\n",
       "      <td>0.7</td>\n",
       "      <td>4.4</td>\n",
       "      <td>5.1</td>\n",
       "      <td>6.1</td>\n",
       "      <td>1.6</td>\n",
       "      <td>0.2</td>\n",
       "      <td>3.0</td>\n",
       "      <td>2.2</td>\n",
       "      <td>26.4</td>\n",
       "    </tr>\n",
       "    <tr>\n",
       "      <th>8902</th>\n",
       "      <td>Stephen Curry</td>\n",
       "      <td>2019</td>\n",
       "      <td>PG</td>\n",
       "      <td>30</td>\n",
       "      <td>GSW</td>\n",
       "      <td>69</td>\n",
       "      <td>69</td>\n",
       "      <td>33.8</td>\n",
       "      <td>9.2</td>\n",
       "      <td>19.4</td>\n",
       "      <td>...</td>\n",
       "      <td>0.916</td>\n",
       "      <td>0.7</td>\n",
       "      <td>4.7</td>\n",
       "      <td>5.3</td>\n",
       "      <td>5.2</td>\n",
       "      <td>1.3</td>\n",
       "      <td>0.4</td>\n",
       "      <td>2.8</td>\n",
       "      <td>2.4</td>\n",
       "      <td>27.3</td>\n",
       "    </tr>\n",
       "    <tr>\n",
       "      <th>9429</th>\n",
       "      <td>Stephen Curry</td>\n",
       "      <td>2020</td>\n",
       "      <td>PG</td>\n",
       "      <td>31</td>\n",
       "      <td>GSW</td>\n",
       "      <td>5</td>\n",
       "      <td>5</td>\n",
       "      <td>27.8</td>\n",
       "      <td>6.6</td>\n",
       "      <td>16.4</td>\n",
       "      <td>...</td>\n",
       "      <td>1.000</td>\n",
       "      <td>0.8</td>\n",
       "      <td>4.4</td>\n",
       "      <td>5.2</td>\n",
       "      <td>6.6</td>\n",
       "      <td>1.0</td>\n",
       "      <td>0.4</td>\n",
       "      <td>3.2</td>\n",
       "      <td>2.2</td>\n",
       "      <td>20.8</td>\n",
       "    </tr>\n",
       "  </tbody>\n",
       "</table>\n",
       "<p>11 rows × 29 columns</p>\n",
       "</div>"
      ],
      "text/plain": [
       "             Player  Year POS  Age   TM  GP  GS    MP   FGM   FGA  ...    FT%  \\\n",
       "4563  Stephen Curry  2010  PG   21  GSW  80  77  36.2   6.6  14.3  ...  0.885   \n",
       "5007  Stephen Curry  2011  PG   22  GSW  74  74  33.6   6.8  14.2  ...  0.934   \n",
       "5459  Stephen Curry  2012  PG   23  GSW  26  23  28.2   5.6  11.4  ...  0.809   \n",
       "5932  Stephen Curry  2013  PG   24  GSW  78  78  38.2   8.0  17.8  ...  0.900   \n",
       "6414  Stephen Curry  2014  PG   25  GSW  78  78  36.5   8.4  17.7  ...  0.885   \n",
       "6896  Stephen Curry  2015  PG   26  GSW  80  80  32.7   8.2  16.8  ...  0.914   \n",
       "7381  Stephen Curry  2016  PG   27  GSW  79  79  34.2  10.2  20.2  ...  0.908   \n",
       "7850  Stephen Curry  2017  PG   28  GSW  79  79  33.4   8.5  18.3  ...  0.898   \n",
       "8358  Stephen Curry  2018  PG   29  GSW  51  51  32.0   8.4  16.9  ...  0.921   \n",
       "8902  Stephen Curry  2019  PG   30  GSW  69  69  33.8   9.2  19.4  ...  0.916   \n",
       "9429  Stephen Curry  2020  PG   31  GSW   5   5  27.8   6.6  16.4  ...  1.000   \n",
       "\n",
       "      ORB  DRB  REB  AST  STL  BLK  TOV   PF   PTS  \n",
       "4563  0.6  3.9  4.5  5.9  1.9  0.2  3.0  3.2  17.5  \n",
       "5007  0.7  3.2  3.9  5.8  1.5  0.3  3.1  3.1  18.6  \n",
       "5459  0.6  2.8  3.4  5.3  1.5  0.3  2.5  2.4  14.7  \n",
       "5932  0.8  3.3  4.0  6.9  1.6  0.2  3.1  2.5  22.9  \n",
       "6414  0.6  3.7  4.3  8.5  1.6  0.2  3.8  2.5  24.0  \n",
       "6896  0.7  3.6  4.3  7.7  2.0  0.2  3.1  2.0  23.8  \n",
       "7381  0.9  4.6  5.4  6.7  2.1  0.2  3.3  2.0  30.1  \n",
       "7850  0.8  3.7  4.5  6.6  1.8  0.2  3.0  2.3  25.3  \n",
       "8358  0.7  4.4  5.1  6.1  1.6  0.2  3.0  2.2  26.4  \n",
       "8902  0.7  4.7  5.3  5.2  1.3  0.4  2.8  2.4  27.3  \n",
       "9429  0.8  4.4  5.2  6.6  1.0  0.4  3.2  2.2  20.8  \n",
       "\n",
       "[11 rows x 29 columns]"
      ]
     },
     "execution_count": 36,
     "metadata": {},
     "output_type": "execute_result"
    }
   ],
   "source": [
    "#Verification\n",
    "stats[stats['Player'].str.contains('Stephen Curry')]"
   ]
  },
  {
   "cell_type": "markdown",
   "metadata": {},
   "source": [
    "#### Combine both the salary and stats dataframe."
   ]
  },
  {
   "cell_type": "code",
   "execution_count": 38,
   "metadata": {},
   "outputs": [
    {
     "data": {
      "text/plain": [
       "(10319, 30)"
      ]
     },
     "execution_count": 38,
     "metadata": {},
     "output_type": "execute_result"
    }
   ],
   "source": [
    "df = pd.merge(salary,stats,on=['Player','Year'],how='left')\n",
    "df.shape"
   ]
  },
  {
   "cell_type": "code",
   "execution_count": 39,
   "metadata": {
    "scrolled": true
   },
   "outputs": [],
   "source": [
    "#Drop the values with NA, as most of them are rookies with contracts.\n",
    "df=df.dropna(axis='rows').reset_index(drop=True)"
   ]
  },
  {
   "cell_type": "code",
   "execution_count": 40,
   "metadata": {},
   "outputs": [
    {
     "data": {
      "text/plain": [
       "Player    0\n",
       "Year      0\n",
       "Salary    0\n",
       "POS       0\n",
       "Age       0\n",
       "TM        0\n",
       "GP        0\n",
       "GS        0\n",
       "MP        0\n",
       "FGM       0\n",
       "FGA       0\n",
       "FG%       0\n",
       "3PM       0\n",
       "3PA       0\n",
       "3P%       0\n",
       "2PM       0\n",
       "2PA       0\n",
       "2P%       0\n",
       "FTM       0\n",
       "FTA       0\n",
       "FT%       0\n",
       "ORB       0\n",
       "DRB       0\n",
       "REB       0\n",
       "AST       0\n",
       "STL       0\n",
       "BLK       0\n",
       "TOV       0\n",
       "PF        0\n",
       "PTS       0\n",
       "dtype: int64"
      ]
     },
     "execution_count": 40,
     "metadata": {},
     "output_type": "execute_result"
    }
   ],
   "source": [
    "#Check for null values that resulted from our join method.\n",
    "df.isnull().sum()"
   ]
  },
  {
   "cell_type": "markdown",
   "metadata": {},
   "source": [
    "#### Many dual positions, so we only take the 1st, as this was their original position at the start of the season before they got traded."
   ]
  },
  {
   "cell_type": "code",
   "execution_count": 45,
   "metadata": {},
   "outputs": [
    {
     "data": {
      "text/plain": [
       "SG    1594\n",
       "PG    1457\n",
       "SF    1382\n",
       "PF    1360\n",
       "C     1010\n",
       "Name: POS, dtype: int64"
      ]
     },
     "execution_count": 45,
     "metadata": {},
     "output_type": "execute_result"
    }
   ],
   "source": [
    "df['POS'].value_counts()"
   ]
  },
  {
   "cell_type": "code",
   "execution_count": 46,
   "metadata": {},
   "outputs": [
    {
     "data": {
      "text/plain": [
       "SG    1594\n",
       "PG    1457\n",
       "SF    1382\n",
       "PF    1360\n",
       "C     1010\n",
       "Name: POS, dtype: int64"
      ]
     },
     "execution_count": 46,
     "metadata": {},
     "output_type": "execute_result"
    }
   ],
   "source": [
    "df['POS']=df['POS'].str.split(\"-\",expand=True)[0]\n",
    "df['POS'].value_counts()"
   ]
  },
  {
   "cell_type": "code",
   "execution_count": 47,
   "metadata": {},
   "outputs": [
    {
     "data": {
      "text/html": [
       "<div>\n",
       "<style scoped>\n",
       "    .dataframe tbody tr th:only-of-type {\n",
       "        vertical-align: middle;\n",
       "    }\n",
       "\n",
       "    .dataframe tbody tr th {\n",
       "        vertical-align: top;\n",
       "    }\n",
       "\n",
       "    .dataframe thead th {\n",
       "        text-align: right;\n",
       "    }\n",
       "</style>\n",
       "<table border=\"1\" class=\"dataframe\">\n",
       "  <thead>\n",
       "    <tr style=\"text-align: right;\">\n",
       "      <th></th>\n",
       "      <th></th>\n",
       "      <th>mean</th>\n",
       "    </tr>\n",
       "    <tr>\n",
       "      <th>Year</th>\n",
       "      <th>POS</th>\n",
       "      <th></th>\n",
       "    </tr>\n",
       "  </thead>\n",
       "  <tbody>\n",
       "    <tr>\n",
       "      <th rowspan=\"5\" valign=\"top\">2000</th>\n",
       "      <th>C</th>\n",
       "      <td>9.298772</td>\n",
       "    </tr>\n",
       "    <tr>\n",
       "      <th>PF</th>\n",
       "      <td>7.549561</td>\n",
       "    </tr>\n",
       "    <tr>\n",
       "      <th>PG</th>\n",
       "      <td>4.681793</td>\n",
       "    </tr>\n",
       "    <tr>\n",
       "      <th>SF</th>\n",
       "      <td>5.077988</td>\n",
       "    </tr>\n",
       "    <tr>\n",
       "      <th>SG</th>\n",
       "      <td>5.343863</td>\n",
       "    </tr>\n",
       "    <tr>\n",
       "      <th>...</th>\n",
       "      <th>...</th>\n",
       "      <td>...</td>\n",
       "    </tr>\n",
       "    <tr>\n",
       "      <th rowspan=\"5\" valign=\"top\">2020</th>\n",
       "      <th>C</th>\n",
       "      <td>7.960117</td>\n",
       "    </tr>\n",
       "    <tr>\n",
       "      <th>PF</th>\n",
       "      <td>8.786709</td>\n",
       "    </tr>\n",
       "    <tr>\n",
       "      <th>PG</th>\n",
       "      <td>11.947412</td>\n",
       "    </tr>\n",
       "    <tr>\n",
       "      <th>SF</th>\n",
       "      <td>7.834022</td>\n",
       "    </tr>\n",
       "    <tr>\n",
       "      <th>SG</th>\n",
       "      <td>7.181959</td>\n",
       "    </tr>\n",
       "  </tbody>\n",
       "</table>\n",
       "<p>105 rows × 1 columns</p>\n",
       "</div>"
      ],
      "text/plain": [
       "               mean\n",
       "Year POS           \n",
       "2000 C     9.298772\n",
       "     PF    7.549561\n",
       "     PG    4.681793\n",
       "     SF    5.077988\n",
       "     SG    5.343863\n",
       "...             ...\n",
       "2020 C     7.960117\n",
       "     PF    8.786709\n",
       "     PG   11.947412\n",
       "     SF    7.834022\n",
       "     SG    7.181959\n",
       "\n",
       "[105 rows x 1 columns]"
      ]
     },
     "execution_count": 47,
     "metadata": {},
     "output_type": "execute_result"
    }
   ],
   "source": [
    "# mean salaries is in millions.\n",
    "df.groupby(['Year','POS'])['Salary'].agg(['mean']) "
   ]
  },
  {
   "cell_type": "markdown",
   "metadata": {},
   "source": [
    "#### Plot the average salary for each position throughout the years."
   ]
  },
  {
   "cell_type": "code",
   "execution_count": 48,
   "metadata": {
    "scrolled": false
   },
   "outputs": [
    {
     "data": {
      "image/png": "[encoded data removed]",
      "text/plain": [
       "<Figure size 1080x432 with 1 Axes>"
      ]
     },
     "metadata": {
      "needs_background": "light"
     },
     "output_type": "display_data"
    }
   ],
   "source": [
    "fig, ax = plt.subplots(figsize=(15,6));\n",
    "\n",
    "\n",
    "df.groupby(['Year','POS'])['Salary'].agg(['mean']).unstack().plot(ax=ax,kind='line');\n",
    "ax.xaxis.set_major_locator(MaxNLocator(integer=True)) #set xticklabel to integer.\n",
    "\n",
    "#Try to make hover show the values as well.\n",
    "ax.set_xlabel(\"Year\");\n",
    "ax.set_ylabel(\"Average Salary\");"
   ]
  },
  {
   "cell_type": "markdown",
   "metadata": {},
   "source": [
    "#### Findings:\n",
    "PG Salary ranked from lowest in 2000 to highest in 2020.<br>\n",
    "C Salary ranked from highest in 2000 to close to bottom in 2020. "
   ]
  },
  {
   "cell_type": "markdown",
   "metadata": {},
   "source": [
    "#### Let's check the average 3 pointers made for each position as well."
   ]
  },
  {
   "cell_type": "code",
   "execution_count": 50,
   "metadata": {},
   "outputs": [
    {
     "data": {
      "image/png": "[encoded data removed]",
      "text/plain": [
       "<Figure size 1080x432 with 1 Axes>"
      ]
     },
     "metadata": {
      "needs_background": "light"
     },
     "output_type": "display_data"
    }
   ],
   "source": [
    "from matplotlib.ticker import MaxNLocator\n",
    "\n",
    "fig, ax = plt.subplots(figsize=(15,6));\n",
    "df.groupby(['Year','POS'])['3PM'].agg(['mean']).unstack().plot(ax=ax,kind='line');\n",
    "ax.xaxis.set_major_locator(MaxNLocator(integer=True)) #set xticklabel to integer.\n",
    "ax.set_xlabel(\"Year\");\n",
    "ax.set_ylabel(\"Average 3PM\");"
   ]
  },
  {
   "cell_type": "markdown",
   "metadata": {},
   "source": [
    "#### Findings:\n",
    "The average salary of Point Guards dramatically increased from 2000.<br>\n",
    "The average salary of Centers was ranked one of the highest in early 2000, but seen a sharp decrease in 2019."
   ]
  },
  {
   "cell_type": "markdown",
   "metadata": {},
   "source": [
    "## Machine Learning Models\n",
    "<a id=\"machine-learning\"></a>\n",
    "\n",
    "Even though we have data starting from 2000, multiple dynamics have changed - 3 pointers have become more apparent.<br>\n",
    "Fewer people are attempting mid-range jumpshots.<br>\n",
    "Thus, I will use the past 5 years' dataset to predict the salary using 3 machine learning models."
   ]
  },
  {
   "cell_type": "markdown",
   "metadata": {},
   "source": [
    "#### Create a dataframe for the past 5 years."
   ]
  },
  {
   "cell_type": "code",
   "execution_count": 51,
   "metadata": {},
   "outputs": [],
   "source": [
    "#Create a recent years dataframe.\n",
    "lastfiveyears_df=df[df.Year>=2015]"
   ]
  },
  {
   "cell_type": "markdown",
   "metadata": {},
   "source": [
    "#### Since there are many confounding variables between one another, let's include the basic stats that dictate a player's performance:\n",
    "FG%, FT%, 3PM, PTS, REB,AST,STL,BLK,TOV,PF"
   ]
  },
  {
   "cell_type": "code",
   "execution_count": 73,
   "metadata": {},
   "outputs": [
    {
     "data": {
      "text/html": [
       "<div>\n",
       "<style scoped>\n",
       "    .dataframe tbody tr th:only-of-type {\n",
       "        vertical-align: middle;\n",
       "    }\n",
       "\n",
       "    .dataframe tbody tr th {\n",
       "        vertical-align: top;\n",
       "    }\n",
       "\n",
       "    .dataframe thead th {\n",
       "        text-align: right;\n",
       "    }\n",
       "</style>\n",
       "<table border=\"1\" class=\"dataframe\">\n",
       "  <thead>\n",
       "    <tr style=\"text-align: right;\">\n",
       "      <th></th>\n",
       "      <th>Player</th>\n",
       "      <th>Year</th>\n",
       "      <th>Salary</th>\n",
       "      <th>POS</th>\n",
       "      <th>Age</th>\n",
       "      <th>TM</th>\n",
       "      <th>GP</th>\n",
       "      <th>GS</th>\n",
       "      <th>MP</th>\n",
       "      <th>FGM</th>\n",
       "      <th>...</th>\n",
       "      <th>FT%</th>\n",
       "      <th>ORB</th>\n",
       "      <th>DRB</th>\n",
       "      <th>REB</th>\n",
       "      <th>AST</th>\n",
       "      <th>STL</th>\n",
       "      <th>BLK</th>\n",
       "      <th>TOV</th>\n",
       "      <th>PF</th>\n",
       "      <th>PTS</th>\n",
       "    </tr>\n",
       "  </thead>\n",
       "  <tbody>\n",
       "    <tr>\n",
       "      <th>4659</th>\n",
       "      <td>Kobe Bryant</td>\n",
       "      <td>2015</td>\n",
       "      <td>26.486180</td>\n",
       "      <td>SG</td>\n",
       "      <td>36.0</td>\n",
       "      <td>LAL</td>\n",
       "      <td>35.0</td>\n",
       "      <td>35.0</td>\n",
       "      <td>34.5</td>\n",
       "      <td>7.6</td>\n",
       "      <td>...</td>\n",
       "      <td>0.813</td>\n",
       "      <td>0.7</td>\n",
       "      <td>4.9</td>\n",
       "      <td>5.7</td>\n",
       "      <td>5.6</td>\n",
       "      <td>1.3</td>\n",
       "      <td>0.2</td>\n",
       "      <td>3.7</td>\n",
       "      <td>1.9</td>\n",
       "      <td>22.3</td>\n",
       "    </tr>\n",
       "    <tr>\n",
       "      <th>4660</th>\n",
       "      <td>LeBron James</td>\n",
       "      <td>2015</td>\n",
       "      <td>24.336032</td>\n",
       "      <td>SF</td>\n",
       "      <td>30.0</td>\n",
       "      <td>CLE</td>\n",
       "      <td>69.0</td>\n",
       "      <td>69.0</td>\n",
       "      <td>36.1</td>\n",
       "      <td>9.0</td>\n",
       "      <td>...</td>\n",
       "      <td>0.710</td>\n",
       "      <td>0.7</td>\n",
       "      <td>5.3</td>\n",
       "      <td>6.0</td>\n",
       "      <td>7.4</td>\n",
       "      <td>1.6</td>\n",
       "      <td>0.7</td>\n",
       "      <td>3.9</td>\n",
       "      <td>2.0</td>\n",
       "      <td>25.3</td>\n",
       "    </tr>\n",
       "    <tr>\n",
       "      <th>4661</th>\n",
       "      <td>Carmelo Anthony</td>\n",
       "      <td>2015</td>\n",
       "      <td>24.234855</td>\n",
       "      <td>SF</td>\n",
       "      <td>30.0</td>\n",
       "      <td>NYK</td>\n",
       "      <td>40.0</td>\n",
       "      <td>40.0</td>\n",
       "      <td>35.7</td>\n",
       "      <td>9.0</td>\n",
       "      <td>...</td>\n",
       "      <td>0.797</td>\n",
       "      <td>1.8</td>\n",
       "      <td>4.8</td>\n",
       "      <td>6.6</td>\n",
       "      <td>3.1</td>\n",
       "      <td>1.0</td>\n",
       "      <td>0.4</td>\n",
       "      <td>2.2</td>\n",
       "      <td>2.2</td>\n",
       "      <td>24.2</td>\n",
       "    </tr>\n",
       "    <tr>\n",
       "      <th>4662</th>\n",
       "      <td>Dwight Howard</td>\n",
       "      <td>2015</td>\n",
       "      <td>23.688566</td>\n",
       "      <td>C</td>\n",
       "      <td>29.0</td>\n",
       "      <td>HOU</td>\n",
       "      <td>41.0</td>\n",
       "      <td>41.0</td>\n",
       "      <td>29.8</td>\n",
       "      <td>6.1</td>\n",
       "      <td>...</td>\n",
       "      <td>0.528</td>\n",
       "      <td>2.7</td>\n",
       "      <td>7.8</td>\n",
       "      <td>10.5</td>\n",
       "      <td>1.2</td>\n",
       "      <td>0.7</td>\n",
       "      <td>1.3</td>\n",
       "      <td>2.8</td>\n",
       "      <td>3.3</td>\n",
       "      <td>15.8</td>\n",
       "    </tr>\n",
       "    <tr>\n",
       "      <th>4663</th>\n",
       "      <td>Joe Johnson</td>\n",
       "      <td>2015</td>\n",
       "      <td>23.635572</td>\n",
       "      <td>SG</td>\n",
       "      <td>33.0</td>\n",
       "      <td>BRK</td>\n",
       "      <td>80.0</td>\n",
       "      <td>80.0</td>\n",
       "      <td>34.9</td>\n",
       "      <td>5.6</td>\n",
       "      <td>...</td>\n",
       "      <td>0.801</td>\n",
       "      <td>0.7</td>\n",
       "      <td>4.1</td>\n",
       "      <td>4.8</td>\n",
       "      <td>3.7</td>\n",
       "      <td>0.7</td>\n",
       "      <td>0.2</td>\n",
       "      <td>1.7</td>\n",
       "      <td>1.5</td>\n",
       "      <td>14.4</td>\n",
       "    </tr>\n",
       "    <tr>\n",
       "      <th>...</th>\n",
       "      <td>...</td>\n",
       "      <td>...</td>\n",
       "      <td>...</td>\n",
       "      <td>...</td>\n",
       "      <td>...</td>\n",
       "      <td>...</td>\n",
       "      <td>...</td>\n",
       "      <td>...</td>\n",
       "      <td>...</td>\n",
       "      <td>...</td>\n",
       "      <td>...</td>\n",
       "      <td>...</td>\n",
       "      <td>...</td>\n",
       "      <td>...</td>\n",
       "      <td>...</td>\n",
       "      <td>...</td>\n",
       "      <td>...</td>\n",
       "      <td>...</td>\n",
       "      <td>...</td>\n",
       "      <td>...</td>\n",
       "      <td>...</td>\n",
       "    </tr>\n",
       "    <tr>\n",
       "      <th>6798</th>\n",
       "      <td>Quinndary Weatherspoon</td>\n",
       "      <td>2020</td>\n",
       "      <td>0.079568</td>\n",
       "      <td>SG</td>\n",
       "      <td>23.0</td>\n",
       "      <td>SAS</td>\n",
       "      <td>11.0</td>\n",
       "      <td>0.0</td>\n",
       "      <td>7.1</td>\n",
       "      <td>0.5</td>\n",
       "      <td>...</td>\n",
       "      <td>0.500</td>\n",
       "      <td>0.1</td>\n",
       "      <td>0.5</td>\n",
       "      <td>0.6</td>\n",
       "      <td>1.0</td>\n",
       "      <td>0.3</td>\n",
       "      <td>0.1</td>\n",
       "      <td>0.5</td>\n",
       "      <td>0.7</td>\n",
       "      <td>1.1</td>\n",
       "    </tr>\n",
       "    <tr>\n",
       "      <th>6799</th>\n",
       "      <td>Yuta Watanabe</td>\n",
       "      <td>2020</td>\n",
       "      <td>0.079568</td>\n",
       "      <td>SF</td>\n",
       "      <td>25.0</td>\n",
       "      <td>MEM</td>\n",
       "      <td>18.0</td>\n",
       "      <td>0.0</td>\n",
       "      <td>5.8</td>\n",
       "      <td>0.8</td>\n",
       "      <td>...</td>\n",
       "      <td>0.375</td>\n",
       "      <td>0.4</td>\n",
       "      <td>0.7</td>\n",
       "      <td>1.1</td>\n",
       "      <td>0.3</td>\n",
       "      <td>0.3</td>\n",
       "      <td>0.1</td>\n",
       "      <td>0.1</td>\n",
       "      <td>0.5</td>\n",
       "      <td>2.0</td>\n",
       "    </tr>\n",
       "    <tr>\n",
       "      <th>6800</th>\n",
       "      <td>Jarrell Brantley</td>\n",
       "      <td>2020</td>\n",
       "      <td>0.079568</td>\n",
       "      <td>PF</td>\n",
       "      <td>23.0</td>\n",
       "      <td>UTA</td>\n",
       "      <td>9.0</td>\n",
       "      <td>0.0</td>\n",
       "      <td>10.7</td>\n",
       "      <td>1.1</td>\n",
       "      <td>...</td>\n",
       "      <td>0.500</td>\n",
       "      <td>0.2</td>\n",
       "      <td>2.0</td>\n",
       "      <td>2.2</td>\n",
       "      <td>1.2</td>\n",
       "      <td>0.3</td>\n",
       "      <td>0.6</td>\n",
       "      <td>0.8</td>\n",
       "      <td>0.8</td>\n",
       "      <td>2.7</td>\n",
       "    </tr>\n",
       "    <tr>\n",
       "      <th>6801</th>\n",
       "      <td>Garrison Mathews</td>\n",
       "      <td>2020</td>\n",
       "      <td>0.079568</td>\n",
       "      <td>SG</td>\n",
       "      <td>23.0</td>\n",
       "      <td>WAS</td>\n",
       "      <td>18.0</td>\n",
       "      <td>0.0</td>\n",
       "      <td>12.6</td>\n",
       "      <td>1.3</td>\n",
       "      <td>...</td>\n",
       "      <td>0.912</td>\n",
       "      <td>0.3</td>\n",
       "      <td>1.0</td>\n",
       "      <td>1.3</td>\n",
       "      <td>0.6</td>\n",
       "      <td>0.4</td>\n",
       "      <td>0.1</td>\n",
       "      <td>0.4</td>\n",
       "      <td>1.8</td>\n",
       "      <td>5.4</td>\n",
       "    </tr>\n",
       "    <tr>\n",
       "      <th>6802</th>\n",
       "      <td>Jerian Grant</td>\n",
       "      <td>2020</td>\n",
       "      <td>0.050000</td>\n",
       "      <td>SG</td>\n",
       "      <td>27.0</td>\n",
       "      <td>WAS</td>\n",
       "      <td>6.0</td>\n",
       "      <td>0.0</td>\n",
       "      <td>13.3</td>\n",
       "      <td>1.7</td>\n",
       "      <td>...</td>\n",
       "      <td>0.714</td>\n",
       "      <td>0.3</td>\n",
       "      <td>0.7</td>\n",
       "      <td>1.0</td>\n",
       "      <td>1.5</td>\n",
       "      <td>0.2</td>\n",
       "      <td>0.2</td>\n",
       "      <td>0.5</td>\n",
       "      <td>1.8</td>\n",
       "      <td>4.5</td>\n",
       "    </tr>\n",
       "  </tbody>\n",
       "</table>\n",
       "<p>2144 rows × 30 columns</p>\n",
       "</div>"
      ],
      "text/plain": [
       "                      Player  Year     Salary POS   Age   TM    GP    GS  \\\n",
       "4659             Kobe Bryant  2015  26.486180  SG  36.0  LAL  35.0  35.0   \n",
       "4660            LeBron James  2015  24.336032  SF  30.0  CLE  69.0  69.0   \n",
       "4661         Carmelo Anthony  2015  24.234855  SF  30.0  NYK  40.0  40.0   \n",
       "4662           Dwight Howard  2015  23.688566   C  29.0  HOU  41.0  41.0   \n",
       "4663             Joe Johnson  2015  23.635572  SG  33.0  BRK  80.0  80.0   \n",
       "...                      ...   ...        ...  ..   ...  ...   ...   ...   \n",
       "6798  Quinndary Weatherspoon  2020   0.079568  SG  23.0  SAS  11.0   0.0   \n",
       "6799           Yuta Watanabe  2020   0.079568  SF  25.0  MEM  18.0   0.0   \n",
       "6800        Jarrell Brantley  2020   0.079568  PF  23.0  UTA   9.0   0.0   \n",
       "6801        Garrison Mathews  2020   0.079568  SG  23.0  WAS  18.0   0.0   \n",
       "6802            Jerian Grant  2020   0.050000  SG  27.0  WAS   6.0   0.0   \n",
       "\n",
       "        MP  FGM  ...    FT%  ORB  DRB   REB  AST  STL  BLK  TOV   PF   PTS  \n",
       "4659  34.5  7.6  ...  0.813  0.7  4.9   5.7  5.6  1.3  0.2  3.7  1.9  22.3  \n",
       "4660  36.1  9.0  ...  0.710  0.7  5.3   6.0  7.4  1.6  0.7  3.9  2.0  25.3  \n",
       "4661  35.7  9.0  ...  0.797  1.8  4.8   6.6  3.1  1.0  0.4  2.2  2.2  24.2  \n",
       "4662  29.8  6.1  ...  0.528  2.7  7.8  10.5  1.2  0.7  1.3  2.8  3.3  15.8  \n",
       "4663  34.9  5.6  ...  0.801  0.7  4.1   4.8  3.7  0.7  0.2  1.7  1.5  14.4  \n",
       "...    ...  ...  ...    ...  ...  ...   ...  ...  ...  ...  ...  ...   ...  \n",
       "6798   7.1  0.5  ...  0.500  0.1  0.5   0.6  1.0  0.3  0.1  0.5  0.7   1.1  \n",
       "6799   5.8  0.8  ...  0.375  0.4  0.7   1.1  0.3  0.3  0.1  0.1  0.5   2.0  \n",
       "6800  10.7  1.1  ...  0.500  0.2  2.0   2.2  1.2  0.3  0.6  0.8  0.8   2.7  \n",
       "6801  12.6  1.3  ...  0.912  0.3  1.0   1.3  0.6  0.4  0.1  0.4  1.8   5.4  \n",
       "6802  13.3  1.7  ...  0.714  0.3  0.7   1.0  1.5  0.2  0.2  0.5  1.8   4.5  \n",
       "\n",
       "[2144 rows x 30 columns]"
      ]
     },
     "execution_count": 73,
     "metadata": {},
     "output_type": "execute_result"
    }
   ],
   "source": [
    "lastfiveyears_df\n",
    "#lastfiveyears_df.drop(['GS','FGA','FGM','3PA','2PA','2P%','FTA','ORB','DRB','2PM','MP'],axis=1,inplace=True)"
   ]
  },
  {
   "cell_type": "markdown",
   "metadata": {},
   "source": [
    "### 1. Linear Regression Model: \n",
    "<a id=\"linear-regression\"></a>\n",
    "We will use the 10 basic indicators, and set it as our feature column."
   ]
  },
  {
   "cell_type": "code",
   "execution_count": 104,
   "metadata": {},
   "outputs": [],
   "source": [
    "#Create a list of features\n",
    "feature_cols=['PTS','FG%','FT%','3PM','AST','REB','STL','BLK','TOV','PF']"
   ]
  },
  {
   "cell_type": "markdown",
   "metadata": {},
   "source": [
    "#### Apply feature scaling."
   ]
  },
  {
   "cell_type": "code",
   "execution_count": 105,
   "metadata": {},
   "outputs": [],
   "source": [
    "#Feature Scaling\n",
    "scaler = StandardScaler()\n",
    "X = lastfiveyears_df[feature_cols]\n",
    "X = scaler.fit_transform(X)\n",
    "y = lastfiveyears_df.Salary"
   ]
  },
  {
   "cell_type": "markdown",
   "metadata": {},
   "source": [
    "#### Preliminary Linear Regression Model"
   ]
  },
  {
   "cell_type": "markdown",
   "metadata": {},
   "source": [
    "Do a Train Test Split with size 0.2"
   ]
  },
  {
   "cell_type": "code",
   "execution_count": 106,
   "metadata": {},
   "outputs": [],
   "source": [
    "X_train, X_test, y_train, y_test = train_test_split(X, y, test_size=0.2, random_state=123)"
   ]
  },
  {
   "cell_type": "code",
   "execution_count": 107,
   "metadata": {
    "scrolled": true
   },
   "outputs": [
    {
     "name": "stdout",
     "output_type": "stream",
     "text": [
      "R^2-value:0.612\n"
     ]
    }
   ],
   "source": [
    "linreg = LinearRegression()\n",
    "linreg.fit(X_train,y_train)\n",
    "score = linreg.score(X_test, y_test)\n",
    "print(\"R^2-value:{}\".format(round(score,3)))"
   ]
  },
  {
   "cell_type": "code",
   "execution_count": 108,
   "metadata": {},
   "outputs": [
    {
     "name": "stdout",
     "output_type": "stream",
     "text": [
      "Intercept: 7.95\n",
      "Coefficient for PTS: 3.8996044077809513\n",
      "Coefficient for FG%: 0.002062496943067149\n",
      "Coefficient for FT%: -0.16896636059276784\n",
      "Coefficient for 3PM: 1.0280402141506493\n",
      "Coefficient for AST: 2.4499326985338015\n",
      "Coefficient for REB: 2.6185728139960007\n",
      "Coefficient for STL: 0.1723108680725881\n",
      "Coefficient for BLK: 0.4773301041726874\n",
      "Coefficient for TOV: -1.5785756388845003\n",
      "Coefficient for PF: -1.2546061803449566\n"
     ]
    }
   ],
   "source": [
    "print('Intercept: {}'.format(round(linreg.intercept_,3)))\n",
    "for i, j in list(zip(feature_cols,linreg.coef_)):\n",
    "    print('Coefficient for {}: {}'.format(i,j))"
   ]
  },
  {
   "cell_type": "markdown",
   "metadata": {},
   "source": [
    "#### Create Train/Test Split: K-Folds Cross (5)"
   ]
  },
  {
   "cell_type": "code",
   "execution_count": 114,
   "metadata": {
    "scrolled": true
   },
   "outputs": [
    {
     "name": "stdout",
     "output_type": "stream",
     "text": [
      "Intercept:-0.6037012539334032 \n",
      "\n",
      "Coefficient for PTS: 0.6830302008839524\n",
      "Coefficient for FG%: -1.1120708286021705\n",
      "Coefficient for FT%: -1.3327338215319553\n",
      "Coefficient for 3PM: 1.198423031767764\n",
      "Coefficient for AST: 1.3453218223520038\n",
      "Coefficient for REB: 1.0903985831637921\n",
      "Coefficient for STL: 0.1561454715517967\n",
      "Coefficient for BLK: 1.0994391354086788\n",
      "Coefficient for TOV: -1.953601487968387\n",
      "Coefficient for PF: -1.7272514080534649\n",
      "\n",
      "Mean of R-square value for 5-folds: 0.5763702960215167\n",
      "Mean of MSE for 5-folds: 30.002181899780133\n"
     ]
    }
   ],
   "source": [
    "mse_values = []\n",
    "scores = []\n",
    "intercept = []\n",
    "coefficients = []\n",
    "n=0\n",
    "\n",
    "#Use 5 K-Fold\n",
    "kf = model_selection.KFold(n_splits=5, shuffle=True)\n",
    "\n",
    "\n",
    "\n",
    "for train_index, test_index in kf.split(X,y):\n",
    "    linreg = LinearRegression()\n",
    "    linreg.fit(X.iloc[train_index],y.iloc[train_index])\n",
    "    \n",
    "    mse_values.append(metrics.mean_squared_error(y.iloc[test_index],linreg.predict(X.iloc[test_index])))\n",
    "    scores.append(linreg.score(X,y))\n",
    "    \n",
    "    intercept.append(linreg.intercept_)\n",
    "    coefficients.append(linreg.coef_)\n",
    "    \n",
    "    n+=1\n",
    "\n",
    "def average(list):\n",
    "    sum_num = 0 \n",
    "    for i in list:\n",
    "        sum_num+=i\n",
    "        \n",
    "    avg = sum_num/len(list)\n",
    "    return avg\n",
    "        \n",
    "\n",
    "print('Intercept:{} \\n'.format(average(intercept)))\n",
    "for i,j in list(zip(feature_cols,average(coefficients))):\n",
    "    print('Coefficient for {}: {}'.format(i,j))\n",
    "\n",
    "print('\\nMean of R-square value for 5-folds: {}'.format(average(scores)))\n",
    "print('Mean of MSE for 5-folds: {}'.format(np.mean(mse_values))) "
   ]
  },
  {
   "cell_type": "markdown",
   "metadata": {},
   "source": [
    "#### Note: MSE for linear is too large! "
   ]
  },
  {
   "cell_type": "markdown",
   "metadata": {},
   "source": [
    "#### *Let's create Stephen Curry's stats this year and test it!*"
   ]
  },
  {
   "cell_type": "code",
   "execution_count": 138,
   "metadata": {},
   "outputs": [
    {
     "name": "stdout",
     "output_type": "stream",
     "text": [
      "Through Linear Regression, predicted Salary for Stephen Curry is 25.64 million USD.\n"
     ]
    }
   ],
   "source": [
    "steph_test = np.array([[27.9,0.453,0.926,4.2,6.2,5.6,1.2,0.2,3.4,2.3]])\n",
    "steph_pred = linreg.predict(steph_test.reshape(1,-1))\n",
    "print('Through Linear Regression, predicted Salary for Stephen Curry is {} million USD.'.format(round(steph_pred[0],2)))"
   ]
  },
  {
   "cell_type": "markdown",
   "metadata": {},
   "source": [
    "### 2. Random Forest Regression Model\n",
    "<a id=\"random-forest-regression\"></a>"
   ]
  },
  {
   "cell_type": "markdown",
   "metadata": {},
   "source": [
    "#### Create Random Forest Regression Preliminary Model"
   ]
  },
  {
   "cell_type": "markdown",
   "metadata": {},
   "source": [
    "Initiate the random forest regressor object."
   ]
  },
  {
   "cell_type": "code",
   "execution_count": 159,
   "metadata": {},
   "outputs": [
    {
     "data": {
      "text/plain": [
       "RandomForestRegressor(bootstrap=True, criterion='mse', max_depth=None,\n",
       "           max_features=10, max_leaf_nodes=None, min_impurity_decrease=0.0,\n",
       "           min_impurity_split=None, min_samples_leaf=1,\n",
       "           min_samples_split=2, min_weight_fraction_leaf=0.0,\n",
       "           n_estimators=150, n_jobs=None, oob_score=True, random_state=123,\n",
       "           verbose=0, warm_start=False)"
      ]
     },
     "execution_count": 159,
     "metadata": {},
     "output_type": "execute_result"
    }
   ],
   "source": [
    "rfreg = RandomForestRegressor(n_estimators=150, max_features=10, oob_score=True, random_state=123)\n",
    "rfreg.fit(X_train, y_train)"
   ]
  },
  {
   "cell_type": "markdown",
   "metadata": {},
   "source": [
    "#### Compute feature importance"
   ]
  },
  {
   "cell_type": "code",
   "execution_count": 160,
   "metadata": {},
   "outputs": [
    {
     "data": {
      "text/html": [
       "<div>\n",
       "<style scoped>\n",
       "    .dataframe tbody tr th:only-of-type {\n",
       "        vertical-align: middle;\n",
       "    }\n",
       "\n",
       "    .dataframe tbody tr th {\n",
       "        vertical-align: top;\n",
       "    }\n",
       "\n",
       "    .dataframe thead th {\n",
       "        text-align: right;\n",
       "    }\n",
       "</style>\n",
       "<table border=\"1\" class=\"dataframe\">\n",
       "  <thead>\n",
       "    <tr style=\"text-align: right;\">\n",
       "      <th></th>\n",
       "      <th>feature</th>\n",
       "      <th>importance</th>\n",
       "    </tr>\n",
       "  </thead>\n",
       "  <tbody>\n",
       "    <tr>\n",
       "      <th>0</th>\n",
       "      <td>PTS</td>\n",
       "      <td>0.557627</td>\n",
       "    </tr>\n",
       "    <tr>\n",
       "      <th>5</th>\n",
       "      <td>REB</td>\n",
       "      <td>0.080658</td>\n",
       "    </tr>\n",
       "    <tr>\n",
       "      <th>4</th>\n",
       "      <td>AST</td>\n",
       "      <td>0.062490</td>\n",
       "    </tr>\n",
       "    <tr>\n",
       "      <th>1</th>\n",
       "      <td>FG%</td>\n",
       "      <td>0.059063</td>\n",
       "    </tr>\n",
       "    <tr>\n",
       "      <th>2</th>\n",
       "      <td>FT%</td>\n",
       "      <td>0.056589</td>\n",
       "    </tr>\n",
       "    <tr>\n",
       "      <th>9</th>\n",
       "      <td>PF</td>\n",
       "      <td>0.043967</td>\n",
       "    </tr>\n",
       "    <tr>\n",
       "      <th>3</th>\n",
       "      <td>3PM</td>\n",
       "      <td>0.042642</td>\n",
       "    </tr>\n",
       "    <tr>\n",
       "      <th>7</th>\n",
       "      <td>BLK</td>\n",
       "      <td>0.035875</td>\n",
       "    </tr>\n",
       "    <tr>\n",
       "      <th>6</th>\n",
       "      <td>STL</td>\n",
       "      <td>0.032171</td>\n",
       "    </tr>\n",
       "    <tr>\n",
       "      <th>8</th>\n",
       "      <td>TOV</td>\n",
       "      <td>0.028917</td>\n",
       "    </tr>\n",
       "  </tbody>\n",
       "</table>\n",
       "</div>"
      ],
      "text/plain": [
       "  feature  importance\n",
       "0     PTS    0.557627\n",
       "5     REB    0.080658\n",
       "4     AST    0.062490\n",
       "1     FG%    0.059063\n",
       "2     FT%    0.056589\n",
       "9      PF    0.043967\n",
       "3     3PM    0.042642\n",
       "7     BLK    0.035875\n",
       "6     STL    0.032171\n",
       "8     TOV    0.028917"
      ]
     },
     "execution_count": 160,
     "metadata": {},
     "output_type": "execute_result"
    }
   ],
   "source": [
    "pd.DataFrame({'feature':feature_cols, 'importance':rfreg.feature_importances_}).sort_values(by='importance',ascending=False)"
   ]
  },
  {
   "cell_type": "code",
   "execution_count": 161,
   "metadata": {},
   "outputs": [
    {
     "name": "stdout",
     "output_type": "stream",
     "text": [
      "Oob-score:0.567444622493644\n",
      "We have a 0.586 accuracy for our oob. That is less than our R^2 value for linear regression model.\n"
     ]
    }
   ],
   "source": [
    "# Compute the out-of-bag R-squared score.\n",
    "print('Oob-score:{}'.format(rfreg.oob_score_))\n",
    "print('We have a 0.586 accuracy for our oob. That is less than our R^2 value for linear regression model.')"
   ]
  },
  {
   "cell_type": "markdown",
   "metadata": {},
   "source": [
    "#### Do a 5-fold and compute the mean squared error. "
   ]
  },
  {
   "cell_type": "code",
   "execution_count": 162,
   "metadata": {},
   "outputs": [
    {
     "name": "stdout",
     "output_type": "stream",
     "text": [
      "Mean squared error: 5.420308339136248\n"
     ]
    }
   ],
   "source": [
    "import numpy as np\n",
    "# Find the average RMSE.\n",
    "scores = cross_val_score(rfreg, X, y, cv=5, scoring='neg_mean_squared_error')\n",
    "mse_error = np.mean(np.sqrt(-scores))\n",
    "print ('Mean squared error: {}'.format(mse_error))"
   ]
  },
  {
   "cell_type": "markdown",
   "metadata": {},
   "source": [
    "#### Note: Mean-squared error is significantly smaller than that of linear regression."
   ]
  },
  {
   "cell_type": "markdown",
   "metadata": {},
   "source": [
    "### Hyperparameter Tuning"
   ]
  },
  {
   "cell_type": "markdown",
   "metadata": {},
   "source": [
    "#### 1. Tuning n_estimators:"
   ]
  },
  {
   "cell_type": "code",
   "execution_count": 144,
   "metadata": {},
   "outputs": [],
   "source": [
    "estimator_range = list(range(10,310,10))\n",
    "\n",
    "#List to store the average RMSE for each value of n_estimators:\n",
    "RMSE_scores = []\n",
    "\n",
    "#Use five-fold cross-validation with each value of n_estimators:\n",
    "for estimator in estimator_range:\n",
    "    rfreg = RandomForestRegressor(n_estimators=estimator, random_state=1)\n",
    "    MSE_scores = cross_val_score(rfreg, X, y, cv=5, scoring = 'neg_mean_squared_error')\n",
    "    RMSE_scores.append(np.mean(np.sqrt(-MSE_scores)))"
   ]
  },
  {
   "cell_type": "code",
   "execution_count": 145,
   "metadata": {},
   "outputs": [
    {
     "data": {
      "text/plain": [
       "dict_keys(['explained_variance', 'r2', 'neg_median_absolute_error', 'neg_mean_absolute_error', 'neg_mean_squared_error', 'neg_mean_squared_log_error', 'accuracy', 'roc_auc', 'balanced_accuracy', 'average_precision', 'neg_log_loss', 'brier_score_loss', 'adjusted_rand_score', 'homogeneity_score', 'completeness_score', 'v_measure_score', 'mutual_info_score', 'adjusted_mutual_info_score', 'normalized_mutual_info_score', 'fowlkes_mallows_score', 'precision', 'precision_macro', 'precision_micro', 'precision_samples', 'precision_weighted', 'recall', 'recall_macro', 'recall_micro', 'recall_samples', 'recall_weighted', 'f1', 'f1_macro', 'f1_micro', 'f1_samples', 'f1_weighted'])"
      ]
     },
     "execution_count": 145,
     "metadata": {},
     "output_type": "execute_result"
    }
   ],
   "source": [
    "metrics.SCORERS.keys()"
   ]
  },
  {
   "cell_type": "code",
   "execution_count": 146,
   "metadata": {},
   "outputs": [
    {
     "data": {
      "image/png": "[encoded data removed]",
      "text/plain": [
       "<Figure size 1080x432 with 1 Axes>"
      ]
     },
     "metadata": {
      "needs_background": "light"
     },
     "output_type": "display_data"
    }
   ],
   "source": [
    "# Plot RMSE (y-axis) versus n_estimators (x-axis).\n",
    "\n",
    "plt.plot(estimator_range, RMSE_scores);\n",
    "\n",
    "plt.xlabel('n_estimators');\n",
    "plt.ylabel('RMSE (lower is better)');"
   ]
  },
  {
   "cell_type": "code",
   "execution_count": 147,
   "metadata": {},
   "outputs": [
    {
     "data": {
      "text/plain": [
       "(5.401934373330385, 270)"
      ]
     },
     "execution_count": 147,
     "metadata": {},
     "output_type": "execute_result"
    }
   ],
   "source": [
    "# Show the best RMSE and the corresponding max_features.\n",
    "sorted(zip(RMSE_scores, estimator_range))[0]"
   ]
  },
  {
   "cell_type": "markdown",
   "metadata": {},
   "source": [
    "Based from the results, we should set n_estimators to be 270."
   ]
  },
  {
   "cell_type": "markdown",
   "metadata": {},
   "source": [
    "#### 2.Tuning max_features: "
   ]
  },
  {
   "cell_type": "code",
   "execution_count": 148,
   "metadata": {},
   "outputs": [],
   "source": [
    "feature_range = list(range(1,len(feature_cols)+1))\n",
    "\n",
    "#List to store the average RMSE for each value of max_feature:\n",
    "RMSE_scores = []\n",
    "\n",
    "#Use five-fold cross-validation with each value of max_feature:\n",
    "for feature in feature_range:\n",
    "    rfreg = RandomForestRegressor(n_estimators=150, max_features=feature, random_state=1)\n",
    "    MSE_scores = cross_val_score(rfreg, X, y, cv=5, scoring = 'neg_mean_squared_error')\n",
    "    RMSE_scores.append(np.mean(np.sqrt(-MSE_scores)))"
   ]
  },
  {
   "cell_type": "code",
   "execution_count": 150,
   "metadata": {
    "scrolled": true
   },
   "outputs": [
    {
     "data": {
      "image/png": "[encoded data removed]",
      "text/plain": [
       "<Figure size 1080x432 with 1 Axes>"
      ]
     },
     "metadata": {
      "needs_background": "light"
     },
     "output_type": "display_data"
    }
   ],
   "source": [
    "# Plot RMSE (y-axis) versus n_estimators (x-axis).\n",
    "\n",
    "plt.plot(feature_range, RMSE_scores);\n",
    "\n",
    "plt.xlabel('n_estimators');\n",
    "plt.ylabel('RMSE (lower is better)');"
   ]
  },
  {
   "cell_type": "code",
   "execution_count": 151,
   "metadata": {},
   "outputs": [
    {
     "data": {
      "text/plain": [
       "(5.308553368905247, 3)"
      ]
     },
     "execution_count": 151,
     "metadata": {},
     "output_type": "execute_result"
    }
   ],
   "source": [
    "sorted(zip(RMSE_scores, feature_range))[0]"
   ]
  },
  {
   "cell_type": "markdown",
   "metadata": {},
   "source": [
    "Seems like 3 is the ideal number of estimators we can have.<br>\n",
    "Another note is that our RMSE for Random Forest is significantly lower than the RMSE for Linear Regression."
   ]
  },
  {
   "cell_type": "markdown",
   "metadata": {},
   "source": [
    "#### *Again, predict Stephen Curry's salary!*"
   ]
  },
  {
   "cell_type": "code",
   "execution_count": 155,
   "metadata": {},
   "outputs": [
    {
     "data": {
      "text/plain": [
       "RandomForestRegressor(bootstrap=True, criterion='mse', max_depth=None,\n",
       "           max_features=3, max_leaf_nodes=None, min_impurity_decrease=0.0,\n",
       "           min_impurity_split=None, min_samples_leaf=1,\n",
       "           min_samples_split=2, min_weight_fraction_leaf=0.0,\n",
       "           n_estimators=20, n_jobs=None, oob_score=True, random_state=1,\n",
       "           verbose=0, warm_start=False)"
      ]
     },
     "execution_count": 155,
     "metadata": {},
     "output_type": "execute_result"
    }
   ],
   "source": [
    "rfreg = RandomForestRegressor(n_estimators=20, max_features=3, oob_score=True, random_state=1)\n",
    "rfreg.fit(X, y)"
   ]
  },
  {
   "cell_type": "code",
   "execution_count": 156,
   "metadata": {},
   "outputs": [
    {
     "name": "stdout",
     "output_type": "stream",
     "text": [
      "Through Random Forest Regression, predicted Salary for Stephen Curry is 30.25 million USD.\n"
     ]
    }
   ],
   "source": [
    "steph_pred = rfreg.predict(steph_test.reshape(1,-1))\n",
    "print('Through Random Forest Regression, predicted Salary for Stephen Curry is {} million USD.'.format(round(steph_pred[0],2)))"
   ]
  },
  {
   "cell_type": "markdown",
   "metadata": {},
   "source": [
    "### 3. Predicting Salary with XGBoost\n",
    "<a id=\"XGBoost-regression\"></a>"
   ]
  },
  {
   "cell_type": "markdown",
   "metadata": {},
   "source": [
    "#### Preliminary XGBoost Model"
   ]
  },
  {
   "cell_type": "markdown",
   "metadata": {},
   "source": [
    "Create a Data Matrix, and initiate the XGBRegressor object."
   ]
  },
  {
   "cell_type": "code",
   "execution_count": 163,
   "metadata": {},
   "outputs": [],
   "source": [
    "data_dmatrix = xgb.DMatrix(data=X,label=y)"
   ]
  },
  {
   "cell_type": "code",
   "execution_count": 164,
   "metadata": {},
   "outputs": [
    {
     "data": {
      "text/plain": [
       "XGBRegressor(base_score=0.5, booster='gbtree', colsample_bylevel=1,\n",
       "       colsample_bynode=1, colsample_bytree=0.3, gamma=0,\n",
       "       importance_type='gain', learning_rate=0.1, max_delta_step=0,\n",
       "       max_depth=5, min_child_weight=1, missing=None, n_estimators=10,\n",
       "       n_jobs=1, nthread=None, objective='reg:linear', random_state=0,\n",
       "       reg_alpha=0, reg_lambda=1, scale_pos_weight=1, seed=None,\n",
       "       silent=None, subsample=1, verbosity=0)"
      ]
     },
     "execution_count": 164,
     "metadata": {},
     "output_type": "execute_result"
    }
   ],
   "source": [
    "xgbr = XGBRegressor(verbosity=0,objective='reg:linear',colsample_bytree=0.3, learning_rate=0.1, max_depth=5, n_estimators=10)\n",
    "xgbr.fit(X_train,y_train)"
   ]
  },
  {
   "cell_type": "code",
   "execution_count": 168,
   "metadata": {},
   "outputs": [],
   "source": [
    "preds = xgbr.predict(X_test)"
   ]
  },
  {
   "cell_type": "code",
   "execution_count": 169,
   "metadata": {
    "scrolled": true
   },
   "outputs": [
    {
     "name": "stdout",
     "output_type": "stream",
     "text": [
      "RMSE: 6.800154\n"
     ]
    }
   ],
   "source": [
    "rmse = np.sqrt(metrics.mean_squared_error(y_test, preds))\n",
    "print(\"RMSE: %f\" % (rmse))"
   ]
  },
  {
   "cell_type": "markdown",
   "metadata": {},
   "source": [
    "Our RMSE is considerably low, as the Random Forest Regression Model."
   ]
  },
  {
   "cell_type": "markdown",
   "metadata": {},
   "source": [
    "#### 5-fold cross validation using the CV method."
   ]
  },
  {
   "cell_type": "code",
   "execution_count": 170,
   "metadata": {},
   "outputs": [
    {
     "name": "stdout",
     "output_type": "stream",
     "text": [
      "[00:17:59] WARNING: src/objective/regression_obj.cu:152: reg:linear is now deprecated in favor of reg:squarederror.\n",
      "[00:17:59] WARNING: src/objective/regression_obj.cu:152: reg:linear is now deprecated in favor of reg:squarederror.\n",
      "[00:17:59] WARNING: src/objective/regression_obj.cu:152: reg:linear is now deprecated in favor of reg:squarederror.\n",
      "[00:17:59] WARNING: src/objective/regression_obj.cu:152: reg:linear is now deprecated in favor of reg:squarederror.\n",
      "[00:17:59] WARNING: src/objective/regression_obj.cu:152: reg:linear is now deprecated in favor of reg:squarederror.\n"
     ]
    }
   ],
   "source": [
    "params = {\"objective\":\"reg:linear\",'colsample_bytree': 0.3,'learning_rate': 0.1,\n",
    "                'max_depth': 5}\n",
    "\n",
    "cv_results = xgb.cv(dtrain=data_dmatrix, params=params, nfold=5,\n",
    "                    num_boost_round=100,metrics=\"rmse\", as_pandas=True, seed=123)"
   ]
  },
  {
   "cell_type": "code",
   "execution_count": 84,
   "metadata": {},
   "outputs": [
    {
     "data": {
      "text/html": [
       "<div>\n",
       "<style scoped>\n",
       "    .dataframe tbody tr th:only-of-type {\n",
       "        vertical-align: middle;\n",
       "    }\n",
       "\n",
       "    .dataframe tbody tr th {\n",
       "        vertical-align: top;\n",
       "    }\n",
       "\n",
       "    .dataframe thead th {\n",
       "        text-align: right;\n",
       "    }\n",
       "</style>\n",
       "<table border=\"1\" class=\"dataframe\">\n",
       "  <thead>\n",
       "    <tr style=\"text-align: right;\">\n",
       "      <th></th>\n",
       "      <th>train-rmse-mean</th>\n",
       "      <th>train-rmse-std</th>\n",
       "      <th>test-rmse-mean</th>\n",
       "      <th>test-rmse-std</th>\n",
       "    </tr>\n",
       "  </thead>\n",
       "  <tbody>\n",
       "    <tr>\n",
       "      <th>0</th>\n",
       "      <td>10.404860</td>\n",
       "      <td>0.056239</td>\n",
       "      <td>10.451589</td>\n",
       "      <td>0.235509</td>\n",
       "    </tr>\n",
       "    <tr>\n",
       "      <th>1</th>\n",
       "      <td>9.666683</td>\n",
       "      <td>0.049044</td>\n",
       "      <td>9.733226</td>\n",
       "      <td>0.234482</td>\n",
       "    </tr>\n",
       "    <tr>\n",
       "      <th>2</th>\n",
       "      <td>9.059017</td>\n",
       "      <td>0.066598</td>\n",
       "      <td>9.173533</td>\n",
       "      <td>0.254345</td>\n",
       "    </tr>\n",
       "    <tr>\n",
       "      <th>3</th>\n",
       "      <td>8.519175</td>\n",
       "      <td>0.059094</td>\n",
       "      <td>8.664671</td>\n",
       "      <td>0.264086</td>\n",
       "    </tr>\n",
       "    <tr>\n",
       "      <th>4</th>\n",
       "      <td>8.057265</td>\n",
       "      <td>0.051878</td>\n",
       "      <td>8.250037</td>\n",
       "      <td>0.282010</td>\n",
       "    </tr>\n",
       "  </tbody>\n",
       "</table>\n",
       "</div>"
      ],
      "text/plain": [
       "   train-rmse-mean  train-rmse-std  test-rmse-mean  test-rmse-std\n",
       "0        10.404860        0.056239       10.451589       0.235509\n",
       "1         9.666683        0.049044        9.733226       0.234482\n",
       "2         9.059017        0.066598        9.173533       0.254345\n",
       "3         8.519175        0.059094        8.664671       0.264086\n",
       "4         8.057265        0.051878        8.250037       0.282010"
      ]
     },
     "execution_count": 84,
     "metadata": {},
     "output_type": "execute_result"
    }
   ],
   "source": [
    "cv_results.head()"
   ]
  },
  {
   "cell_type": "code",
   "execution_count": 172,
   "metadata": {},
   "outputs": [
    {
     "name": "stdout",
     "output_type": "stream",
     "text": [
      "99    5.430284\n",
      "Name: test-rmse-mean, dtype: float64\n"
     ]
    }
   ],
   "source": [
    "print(cv_results[\"test-rmse-mean\"].tail(1))"
   ]
  },
  {
   "cell_type": "markdown",
   "metadata": {},
   "source": [
    "#### Note: This is our final RMSE-mean after boosting/learning 100 times, which is lower than our Preliminary Model. "
   ]
  },
  {
   "cell_type": "markdown",
   "metadata": {},
   "source": [
    "#### Now, we find Find the feature importance for the XGBR Model."
   ]
  },
  {
   "cell_type": "markdown",
   "metadata": {},
   "source": [
    "xgb.plot_importance(xgbr)\n",
    "plt.rcParams['figure.figsize'] = [5, 5]\n",
    "plt.show()"
   ]
  },
  {
   "cell_type": "markdown",
   "metadata": {},
   "source": [
    "#### *Again, we predict Steph's Salary!*"
   ]
  },
  {
   "cell_type": "code",
   "execution_count": 182,
   "metadata": {},
   "outputs": [],
   "source": [
    "steph_test\n",
    "steph_df=pd.DataFrame(steph_test,columns=feature_cols)"
   ]
  },
  {
   "cell_type": "code",
   "execution_count": 190,
   "metadata": {
    "scrolled": true
   },
   "outputs": [
    {
     "name": "stdout",
     "output_type": "stream",
     "text": [
      "Through XGBoost Regression, predicted Salary for Stephen Curry is 17.290000915527344 million USD.\n"
     ]
    }
   ],
   "source": [
    "steph_pred = xgbr.predict(steph_df)\n",
    "steph_pred = round(steph_pred[0],2)\n",
    "print('Through XGBoost Regression, predicted Salary for Stephen Curry is {} million USD.'.format(steph_pred))"
   ]
  },
  {
   "cell_type": "markdown",
   "metadata": {},
   "source": [
    "<a id=\"conclusion\"></a>\n",
    "## Conclusion"
   ]
  },
  {
   "cell_type": "markdown",
   "metadata": {},
   "source": [
    "- Random Forest seems to be the best model we have, as it is the one closest to Steph Curry's salary of 40 million USD.\n",
    "- It also has a very low RMSE, along XGBoost.\n",
    "- Improvements could be made:\n",
    "    - Salary (target data) distribution could be an exponential graph, so perhaps it would be better if we transform    it with Ln first"
   ]
  },
  {
   "cell_type": "code",
   "execution_count": null,
   "metadata": {},
   "outputs": [],
   "source": []
  }
 ],
 "metadata": {
  "kernelspec": {
   "display_name": "Python 3",
   "language": "python",
   "name": "python3"
  },
  "language_info": {
   "codemirror_mode": {
    "name": "ipython",
    "version": 3
   },
   "file_extension": ".py",
   "mimetype": "text/x-python",
   "name": "python",
   "nbconvert_exporter": "python",
   "pygments_lexer": "ipython3",
   "version": "3.7.3"
  }
 },
 "nbformat": 4,
 "nbformat_minor": 2
}
