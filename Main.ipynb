{
 "cells": [
  {
   "cell_type": "markdown",
   "metadata": {
    "slideshow": {
     "slide_type": "slide"
    }
   },
   "source": [
    "# NBA Salary Prediction\n"
   ]
  },
  {
   "cell_type": "markdown",
   "metadata": {
    "slideshow": {
     "slide_type": "slide"
    }
   },
   "source": [
    "<img src='https://www.mercurynews.com/wp-content/uploads/2020/03/BNG-L-WARRIORS-0306-7.jpg?w=525' style='float: center'>\n",
    "\n",
    "\n",
    "\n",
    "## Problem Statement: \n",
    "Over the past few years, NBA players have received large contracts -around 40 million usd annual -as compared to those in the 2000s, where the highest salary was 20 million USD. Are the players today overpaid? In addition, Power Forwards or Centers, positions that were previously known for dominating in the paint, are developing a 3-point shot. In fact, the players have evolved from those who were unstoppable in mid-range and inside the paint (Shaquille O'Neal, Kevin Garnett, Tim Duncan) to those with an outside touch (Karl-Anthony Towns, Anthony Davis, Kristap Porzingis). \n",
    "\n",
    "Is this a requirement to be able to succeed in today's game? "
   ]
  },
  {
   "cell_type": "markdown",
   "metadata": {
    "slideshow": {
     "slide_type": "subslide"
    }
   },
   "source": [
    "## Objective:\n",
    "Predict the expected salary of a player based from his performance the past year and/or the historical dataset for the past 20 years. \n",
    "\n",
    "## Assumptions:\n",
    "\n",
    "Players are accepting the largest contract they are offered by teams, instead of leaving money on the table. \n",
    "I am looking how well they perform on average per game from past last season.\n",
    "There is a correlation between a player's performance and the contract they have, but there should be certain stats (features) that have a stronger correlation than others. \n",
    "\n",
    "\n",
    "## Notes:\n",
    "\n",
    "Rookies' contracts are not included in this dataset, as they do not have participated in NBA games yet."
   ]
  },
  {
   "cell_type": "markdown",
   "metadata": {
    "slideshow": {
     "slide_type": "slide"
    }
   },
   "source": [
    "### Steps Guide:\n",
    "- [Web Scraping](./WebScraping.ipynb)\n",
    "- [Cleaning Data](#data-cleaning)\n",
    "- [Machine Learning Models](#machine-learning) \n",
    " - [Linear Regression](#linear-regression)\n",
    " - [Random Forest Regression](#random-forest-regression)\n",
    " - [XGBoost Regression](#XGBoost-regression)\n",
    " - [Conclusion](#Conclusion)"
   ]
  },
  {
   "cell_type": "markdown",
   "metadata": {
    "slideshow": {
     "slide_type": "slide"
    }
   },
   "source": [
    "<a id=\"data-cleaning\"></a>\n",
    "## Cleaning the Data\n",
    "--- \n",
    "\n",
    "####  Combine the salary csv with the stats csv, and perform necessary changes."
   ]
  },
  {
   "cell_type": "code",
   "execution_count": 190,
   "metadata": {
    "slideshow": {
     "slide_type": "skip"
    }
   },
   "outputs": [],
   "source": [
    "#Import the necessary modules for the whole notebook\n",
    "import pandas as pd\n",
    "import matplotlib.pyplot as plt\n",
    "import numpy as np\n",
    "import seaborn as sns\n",
    "import cpi\n",
    "from matplotlib.ticker import MaxNLocator\n",
    "from sklearn.linear_model import LinearRegression\n",
    "from sklearn.model_selection import train_test_split\n",
    "from sklearn.preprocessing import StandardScaler\n",
    "from sklearn.ensemble import RandomForestRegressor\n",
    "from sklearn.model_selection import cross_val_score\n",
    "from sklearn import model_selection\n",
    "from sklearn import metrics\n",
    "from sklearn.model_selection import GridSearchCV, RandomizedSearchCV\n",
    "import sys\n",
    "import xgboost as xgb\n",
    "from xgboost import XGBRegressor\n",
    "%matplotlib inline\n",
    "\n",
    "from IPython.display import display, HTML\n",
    "\n",
    "from IPython.display import display_html\n",
    "def display_side_by_side(*args):\n",
    "    html_str=''\n",
    "    for df in args:\n",
    "        html_str+=df.to_html()\n",
    "    display_html(html_str.replace('table','table style=\"display:inline\"'),raw=True)\n",
    "\n",
    "plt.rcParams['figure.figsize'] = (15,6)\n",
    "plt.rcParams['font.size'] = 14"
   ]
  },
  {
   "cell_type": "code",
   "execution_count": 10,
   "metadata": {
    "scrolled": true,
    "slideshow": {
     "slide_type": "subslide"
    }
   },
   "outputs": [],
   "source": [
    "#Create Salary and Stats dataframe\n",
    "salary = pd.read_csv('./data/salary.csv')\n",
    "stats = pd.read_csv('./data/stats.csv')"
   ]
  },
  {
   "cell_type": "code",
   "execution_count": 11,
   "metadata": {
    "slideshow": {
     "slide_type": "skip"
    }
   },
   "outputs": [
    {
     "name": "stderr",
     "output_type": "stream",
     "text": [
      "D:\\Anaconda\\lib\\site-packages\\ipykernel_launcher.py:4: FutureWarning: The default value of regex will change from True to False in a future version. In addition, single character regular expressions will*not* be treated as literal strings when regex=True.\n",
      "  after removing the cwd from sys.path.\n",
      "D:\\Anaconda\\lib\\site-packages\\ipykernel_launcher.py:8: FutureWarning: The default value of regex will change from True to False in a future version. In addition, single character regular expressions will*not* be treated as literal strings when regex=True.\n",
      "  \n"
     ]
    }
   ],
   "source": [
    "#Change those with special characters\n",
    "#Drop duplicates, for those were traded midway.\n",
    "stats = stats.drop_duplicates(['Player','Year'],keep='first',ignore_index=True) #Drop duplicates.\n",
    "stats['Player']=stats['Player'].str.replace('*','')#remove the asterisk\n",
    "stats['Player']=stats['Player'].str.replace('ć','c')#remove special characters\n",
    "stats['Player']=stats['Player'].str.replace('č','c')\n",
    "stats['Player']=stats['Player'].str.replace('á','a')\n",
    "stats['Player']=stats['Player'].str.replace('.','')\n",
    "\n",
    "#show salary in terms of millions.\n",
    "salary.Salary = salary.Salary/1000000"
   ]
  },
  {
   "cell_type": "markdown",
   "metadata": {
    "slideshow": {
     "slide_type": "slide"
    }
   },
   "source": [
    "#### Calculation Inflation Rate"
   ]
  },
  {
   "cell_type": "code",
   "execution_count": 12,
   "metadata": {
    "scrolled": false,
    "slideshow": {
     "slide_type": "subslide"
    }
   },
   "outputs": [],
   "source": [
    "# #Account for inflation by using CPI Method\n",
    "\n",
    "# def inflate(salary,year):\n",
    "#     if year == 2020:\n",
    "#         return salary\n",
    "#     elif year == 2019:\n",
    "#         return salary * 1.023\n",
    "#     else:\n",
    "#         return cpi.inflate(salary,year)\n",
    "\n",
    "# def inflation_column(df,column):\n",
    "#     \"\"\"\n",
    "#     Adjust for inflation the series of values in column of the   \n",
    "#     dataframe data\n",
    "#     \"\"\"\n",
    "#     return df.apply(lambda x: inflate(x[column],x.Year),axis=1)\n",
    "\n",
    "\n",
    "\n",
    "# salary['Salary'] = inflation_column(salary,'Salary')\n",
    "\n",
    "# #Verification\n",
    "# # salary[salary.Player.str.contains('Shaq')]\n",
    "# # salary[salary.Player.str.contains('Rudy Gobert')]"
   ]
  },
  {
   "cell_type": "markdown",
   "metadata": {
    "slideshow": {
     "slide_type": "slide"
    }
   },
   "source": [
    "#### Salary and Stats DataFrame Verification.\n",
    "\n",
    "Use Stephen Curry's 2020 salary as a sample comparison for our models."
   ]
  },
  {
   "cell_type": "code",
   "execution_count": 19,
   "metadata": {
    "slideshow": {
     "slide_type": "subslide"
    }
   },
   "outputs": [
    {
     "data": {
      "text/html": [
       "<div>\n",
       "<style scoped>\n",
       "    .dataframe tbody tr th:only-of-type {\n",
       "        vertical-align: middle;\n",
       "    }\n",
       "\n",
       "    .dataframe tbody tr th {\n",
       "        vertical-align: top;\n",
       "    }\n",
       "\n",
       "    .dataframe thead th {\n",
       "        text-align: right;\n",
       "    }\n",
       "</style>\n",
       "<table border=\"1\" class=\"dataframe\">\n",
       "  <thead>\n",
       "    <tr style=\"text-align: right;\">\n",
       "      <th></th>\n",
       "      <th>Player</th>\n",
       "      <th>Year</th>\n",
       "      <th>Salary</th>\n",
       "    </tr>\n",
       "  </thead>\n",
       "  <tbody>\n",
       "    <tr>\n",
       "      <th>4418</th>\n",
       "      <td>Stephen Curry</td>\n",
       "      <td>2009</td>\n",
       "      <td>3.172602</td>\n",
       "    </tr>\n",
       "    <tr>\n",
       "      <th>4859</th>\n",
       "      <td>Stephen Curry</td>\n",
       "      <td>2010</td>\n",
       "      <td>3.355494</td>\n",
       "    </tr>\n",
       "    <tr>\n",
       "      <th>5301</th>\n",
       "      <td>Stephen Curry</td>\n",
       "      <td>2011</td>\n",
       "      <td>3.479746</td>\n",
       "    </tr>\n",
       "    <tr>\n",
       "      <th>5740</th>\n",
       "      <td>Stephen Curry</td>\n",
       "      <td>2012</td>\n",
       "      <td>4.329677</td>\n",
       "    </tr>\n",
       "    <tr>\n",
       "      <th>6116</th>\n",
       "      <td>Stephen Curry</td>\n",
       "      <td>2013</td>\n",
       "      <td>10.658002</td>\n",
       "    </tr>\n",
       "    <tr>\n",
       "      <th>6606</th>\n",
       "      <td>Stephen Curry</td>\n",
       "      <td>2014</td>\n",
       "      <td>11.274457</td>\n",
       "    </tr>\n",
       "    <tr>\n",
       "      <th>7124</th>\n",
       "      <td>Stephen Curry</td>\n",
       "      <td>2015</td>\n",
       "      <td>12.046748</td>\n",
       "    </tr>\n",
       "    <tr>\n",
       "      <th>7641</th>\n",
       "      <td>Stephen Curry</td>\n",
       "      <td>2016</td>\n",
       "      <td>12.672539</td>\n",
       "    </tr>\n",
       "    <tr>\n",
       "      <th>8105</th>\n",
       "      <td>Stephen Curry</td>\n",
       "      <td>2017</td>\n",
       "      <td>35.529663</td>\n",
       "    </tr>\n",
       "    <tr>\n",
       "      <th>8691</th>\n",
       "      <td>Stephen Curry</td>\n",
       "      <td>2018</td>\n",
       "      <td>37.457154</td>\n",
       "    </tr>\n",
       "    <tr>\n",
       "      <th>9267</th>\n",
       "      <td>Stephen Curry</td>\n",
       "      <td>2019</td>\n",
       "      <td>41.157088</td>\n",
       "    </tr>\n",
       "    <tr>\n",
       "      <th>9778</th>\n",
       "      <td>Stephen Curry</td>\n",
       "      <td>2020</td>\n",
       "      <td>43.006362</td>\n",
       "    </tr>\n",
       "  </tbody>\n",
       "</table>\n",
       "</div>"
      ],
      "text/plain": [
       "             Player  Year     Salary\n",
       "4418  Stephen Curry  2009   3.172602\n",
       "4859  Stephen Curry  2010   3.355494\n",
       "5301  Stephen Curry  2011   3.479746\n",
       "5740  Stephen Curry  2012   4.329677\n",
       "6116  Stephen Curry  2013  10.658002\n",
       "6606  Stephen Curry  2014  11.274457\n",
       "7124  Stephen Curry  2015  12.046748\n",
       "7641  Stephen Curry  2016  12.672539\n",
       "8105  Stephen Curry  2017  35.529663\n",
       "8691  Stephen Curry  2018  37.457154\n",
       "9267  Stephen Curry  2019  41.157088\n",
       "9778  Stephen Curry  2020  43.006362"
      ]
     },
     "execution_count": 19,
     "metadata": {},
     "output_type": "execute_result"
    }
   ],
   "source": [
    "#Salary DataFrame\n",
    "salary[salary['Player'].str.contains('Stephen Curry')]    #We get Steph Curry's 2020 Salary and use it to test our models."
   ]
  },
  {
   "cell_type": "code",
   "execution_count": 20,
   "metadata": {
    "scrolled": true,
    "slideshow": {
     "slide_type": "skip"
    }
   },
   "outputs": [
    {
     "data": {
      "text/plain": [
       "Player    0\n",
       "Year      0\n",
       "Salary    0\n",
       "dtype: int64"
      ]
     },
     "execution_count": 20,
     "metadata": {},
     "output_type": "execute_result"
    }
   ],
   "source": [
    "#Ensure no null/missing values\n",
    "salary.isnull().sum()"
   ]
  },
  {
   "cell_type": "code",
   "execution_count": 21,
   "metadata": {
    "slideshow": {
     "slide_type": "subslide"
    }
   },
   "outputs": [
    {
     "data": {
      "text/html": [
       "<div>\n",
       "<style scoped>\n",
       "    .dataframe tbody tr th:only-of-type {\n",
       "        vertical-align: middle;\n",
       "    }\n",
       "\n",
       "    .dataframe tbody tr th {\n",
       "        vertical-align: top;\n",
       "    }\n",
       "\n",
       "    .dataframe thead th {\n",
       "        text-align: right;\n",
       "    }\n",
       "</style>\n",
       "<table border=\"1\" class=\"dataframe\">\n",
       "  <thead>\n",
       "    <tr style=\"text-align: right;\">\n",
       "      <th></th>\n",
       "      <th>Player</th>\n",
       "      <th>Year</th>\n",
       "      <th>POS</th>\n",
       "      <th>Age</th>\n",
       "      <th>TM</th>\n",
       "      <th>GP</th>\n",
       "      <th>GS</th>\n",
       "      <th>MP</th>\n",
       "      <th>FGM</th>\n",
       "      <th>FGA</th>\n",
       "      <th>...</th>\n",
       "      <th>FT%</th>\n",
       "      <th>ORB</th>\n",
       "      <th>DRB</th>\n",
       "      <th>REB</th>\n",
       "      <th>AST</th>\n",
       "      <th>STL</th>\n",
       "      <th>BLK</th>\n",
       "      <th>TOV</th>\n",
       "      <th>PF</th>\n",
       "      <th>PTS</th>\n",
       "    </tr>\n",
       "  </thead>\n",
       "  <tbody>\n",
       "    <tr>\n",
       "      <th>4563</th>\n",
       "      <td>Stephen Curry</td>\n",
       "      <td>2010</td>\n",
       "      <td>PG</td>\n",
       "      <td>21</td>\n",
       "      <td>GSW</td>\n",
       "      <td>80</td>\n",
       "      <td>77</td>\n",
       "      <td>36.2</td>\n",
       "      <td>6.6</td>\n",
       "      <td>14.3</td>\n",
       "      <td>...</td>\n",
       "      <td>0.885</td>\n",
       "      <td>0.6</td>\n",
       "      <td>3.9</td>\n",
       "      <td>4.5</td>\n",
       "      <td>5.9</td>\n",
       "      <td>1.9</td>\n",
       "      <td>0.2</td>\n",
       "      <td>3.0</td>\n",
       "      <td>3.2</td>\n",
       "      <td>17.5</td>\n",
       "    </tr>\n",
       "    <tr>\n",
       "      <th>5007</th>\n",
       "      <td>Stephen Curry</td>\n",
       "      <td>2011</td>\n",
       "      <td>PG</td>\n",
       "      <td>22</td>\n",
       "      <td>GSW</td>\n",
       "      <td>74</td>\n",
       "      <td>74</td>\n",
       "      <td>33.6</td>\n",
       "      <td>6.8</td>\n",
       "      <td>14.2</td>\n",
       "      <td>...</td>\n",
       "      <td>0.934</td>\n",
       "      <td>0.7</td>\n",
       "      <td>3.2</td>\n",
       "      <td>3.9</td>\n",
       "      <td>5.8</td>\n",
       "      <td>1.5</td>\n",
       "      <td>0.3</td>\n",
       "      <td>3.1</td>\n",
       "      <td>3.1</td>\n",
       "      <td>18.6</td>\n",
       "    </tr>\n",
       "    <tr>\n",
       "      <th>5459</th>\n",
       "      <td>Stephen Curry</td>\n",
       "      <td>2012</td>\n",
       "      <td>PG</td>\n",
       "      <td>23</td>\n",
       "      <td>GSW</td>\n",
       "      <td>26</td>\n",
       "      <td>23</td>\n",
       "      <td>28.2</td>\n",
       "      <td>5.6</td>\n",
       "      <td>11.4</td>\n",
       "      <td>...</td>\n",
       "      <td>0.809</td>\n",
       "      <td>0.6</td>\n",
       "      <td>2.8</td>\n",
       "      <td>3.4</td>\n",
       "      <td>5.3</td>\n",
       "      <td>1.5</td>\n",
       "      <td>0.3</td>\n",
       "      <td>2.5</td>\n",
       "      <td>2.4</td>\n",
       "      <td>14.7</td>\n",
       "    </tr>\n",
       "    <tr>\n",
       "      <th>5932</th>\n",
       "      <td>Stephen Curry</td>\n",
       "      <td>2013</td>\n",
       "      <td>PG</td>\n",
       "      <td>24</td>\n",
       "      <td>GSW</td>\n",
       "      <td>78</td>\n",
       "      <td>78</td>\n",
       "      <td>38.2</td>\n",
       "      <td>8.0</td>\n",
       "      <td>17.8</td>\n",
       "      <td>...</td>\n",
       "      <td>0.900</td>\n",
       "      <td>0.8</td>\n",
       "      <td>3.3</td>\n",
       "      <td>4.0</td>\n",
       "      <td>6.9</td>\n",
       "      <td>1.6</td>\n",
       "      <td>0.2</td>\n",
       "      <td>3.1</td>\n",
       "      <td>2.5</td>\n",
       "      <td>22.9</td>\n",
       "    </tr>\n",
       "    <tr>\n",
       "      <th>6414</th>\n",
       "      <td>Stephen Curry</td>\n",
       "      <td>2014</td>\n",
       "      <td>PG</td>\n",
       "      <td>25</td>\n",
       "      <td>GSW</td>\n",
       "      <td>78</td>\n",
       "      <td>78</td>\n",
       "      <td>36.5</td>\n",
       "      <td>8.4</td>\n",
       "      <td>17.7</td>\n",
       "      <td>...</td>\n",
       "      <td>0.885</td>\n",
       "      <td>0.6</td>\n",
       "      <td>3.7</td>\n",
       "      <td>4.3</td>\n",
       "      <td>8.5</td>\n",
       "      <td>1.6</td>\n",
       "      <td>0.2</td>\n",
       "      <td>3.8</td>\n",
       "      <td>2.5</td>\n",
       "      <td>24.0</td>\n",
       "    </tr>\n",
       "    <tr>\n",
       "      <th>6896</th>\n",
       "      <td>Stephen Curry</td>\n",
       "      <td>2015</td>\n",
       "      <td>PG</td>\n",
       "      <td>26</td>\n",
       "      <td>GSW</td>\n",
       "      <td>80</td>\n",
       "      <td>80</td>\n",
       "      <td>32.7</td>\n",
       "      <td>8.2</td>\n",
       "      <td>16.8</td>\n",
       "      <td>...</td>\n",
       "      <td>0.914</td>\n",
       "      <td>0.7</td>\n",
       "      <td>3.6</td>\n",
       "      <td>4.3</td>\n",
       "      <td>7.7</td>\n",
       "      <td>2.0</td>\n",
       "      <td>0.2</td>\n",
       "      <td>3.1</td>\n",
       "      <td>2.0</td>\n",
       "      <td>23.8</td>\n",
       "    </tr>\n",
       "    <tr>\n",
       "      <th>7381</th>\n",
       "      <td>Stephen Curry</td>\n",
       "      <td>2016</td>\n",
       "      <td>PG</td>\n",
       "      <td>27</td>\n",
       "      <td>GSW</td>\n",
       "      <td>79</td>\n",
       "      <td>79</td>\n",
       "      <td>34.2</td>\n",
       "      <td>10.2</td>\n",
       "      <td>20.2</td>\n",
       "      <td>...</td>\n",
       "      <td>0.908</td>\n",
       "      <td>0.9</td>\n",
       "      <td>4.6</td>\n",
       "      <td>5.4</td>\n",
       "      <td>6.7</td>\n",
       "      <td>2.1</td>\n",
       "      <td>0.2</td>\n",
       "      <td>3.3</td>\n",
       "      <td>2.0</td>\n",
       "      <td>30.1</td>\n",
       "    </tr>\n",
       "    <tr>\n",
       "      <th>7850</th>\n",
       "      <td>Stephen Curry</td>\n",
       "      <td>2017</td>\n",
       "      <td>PG</td>\n",
       "      <td>28</td>\n",
       "      <td>GSW</td>\n",
       "      <td>79</td>\n",
       "      <td>79</td>\n",
       "      <td>33.4</td>\n",
       "      <td>8.5</td>\n",
       "      <td>18.3</td>\n",
       "      <td>...</td>\n",
       "      <td>0.898</td>\n",
       "      <td>0.8</td>\n",
       "      <td>3.7</td>\n",
       "      <td>4.5</td>\n",
       "      <td>6.6</td>\n",
       "      <td>1.8</td>\n",
       "      <td>0.2</td>\n",
       "      <td>3.0</td>\n",
       "      <td>2.3</td>\n",
       "      <td>25.3</td>\n",
       "    </tr>\n",
       "    <tr>\n",
       "      <th>8358</th>\n",
       "      <td>Stephen Curry</td>\n",
       "      <td>2018</td>\n",
       "      <td>PG</td>\n",
       "      <td>29</td>\n",
       "      <td>GSW</td>\n",
       "      <td>51</td>\n",
       "      <td>51</td>\n",
       "      <td>32.0</td>\n",
       "      <td>8.4</td>\n",
       "      <td>16.9</td>\n",
       "      <td>...</td>\n",
       "      <td>0.921</td>\n",
       "      <td>0.7</td>\n",
       "      <td>4.4</td>\n",
       "      <td>5.1</td>\n",
       "      <td>6.1</td>\n",
       "      <td>1.6</td>\n",
       "      <td>0.2</td>\n",
       "      <td>3.0</td>\n",
       "      <td>2.2</td>\n",
       "      <td>26.4</td>\n",
       "    </tr>\n",
       "    <tr>\n",
       "      <th>8902</th>\n",
       "      <td>Stephen Curry</td>\n",
       "      <td>2019</td>\n",
       "      <td>PG</td>\n",
       "      <td>30</td>\n",
       "      <td>GSW</td>\n",
       "      <td>69</td>\n",
       "      <td>69</td>\n",
       "      <td>33.8</td>\n",
       "      <td>9.2</td>\n",
       "      <td>19.4</td>\n",
       "      <td>...</td>\n",
       "      <td>0.916</td>\n",
       "      <td>0.7</td>\n",
       "      <td>4.7</td>\n",
       "      <td>5.3</td>\n",
       "      <td>5.2</td>\n",
       "      <td>1.3</td>\n",
       "      <td>0.4</td>\n",
       "      <td>2.8</td>\n",
       "      <td>2.4</td>\n",
       "      <td>27.3</td>\n",
       "    </tr>\n",
       "    <tr>\n",
       "      <th>9429</th>\n",
       "      <td>Stephen Curry</td>\n",
       "      <td>2020</td>\n",
       "      <td>PG</td>\n",
       "      <td>31</td>\n",
       "      <td>GSW</td>\n",
       "      <td>5</td>\n",
       "      <td>5</td>\n",
       "      <td>27.8</td>\n",
       "      <td>6.6</td>\n",
       "      <td>16.4</td>\n",
       "      <td>...</td>\n",
       "      <td>1.000</td>\n",
       "      <td>0.8</td>\n",
       "      <td>4.4</td>\n",
       "      <td>5.2</td>\n",
       "      <td>6.6</td>\n",
       "      <td>1.0</td>\n",
       "      <td>0.4</td>\n",
       "      <td>3.2</td>\n",
       "      <td>2.2</td>\n",
       "      <td>20.8</td>\n",
       "    </tr>\n",
       "  </tbody>\n",
       "</table>\n",
       "<p>11 rows × 29 columns</p>\n",
       "</div>"
      ],
      "text/plain": [
       "             Player  Year POS  Age   TM  GP  GS    MP   FGM   FGA  ...    FT%  \\\n",
       "4563  Stephen Curry  2010  PG   21  GSW  80  77  36.2   6.6  14.3  ...  0.885   \n",
       "5007  Stephen Curry  2011  PG   22  GSW  74  74  33.6   6.8  14.2  ...  0.934   \n",
       "5459  Stephen Curry  2012  PG   23  GSW  26  23  28.2   5.6  11.4  ...  0.809   \n",
       "5932  Stephen Curry  2013  PG   24  GSW  78  78  38.2   8.0  17.8  ...  0.900   \n",
       "6414  Stephen Curry  2014  PG   25  GSW  78  78  36.5   8.4  17.7  ...  0.885   \n",
       "6896  Stephen Curry  2015  PG   26  GSW  80  80  32.7   8.2  16.8  ...  0.914   \n",
       "7381  Stephen Curry  2016  PG   27  GSW  79  79  34.2  10.2  20.2  ...  0.908   \n",
       "7850  Stephen Curry  2017  PG   28  GSW  79  79  33.4   8.5  18.3  ...  0.898   \n",
       "8358  Stephen Curry  2018  PG   29  GSW  51  51  32.0   8.4  16.9  ...  0.921   \n",
       "8902  Stephen Curry  2019  PG   30  GSW  69  69  33.8   9.2  19.4  ...  0.916   \n",
       "9429  Stephen Curry  2020  PG   31  GSW   5   5  27.8   6.6  16.4  ...  1.000   \n",
       "\n",
       "      ORB  DRB  REB  AST  STL  BLK  TOV   PF   PTS  \n",
       "4563  0.6  3.9  4.5  5.9  1.9  0.2  3.0  3.2  17.5  \n",
       "5007  0.7  3.2  3.9  5.8  1.5  0.3  3.1  3.1  18.6  \n",
       "5459  0.6  2.8  3.4  5.3  1.5  0.3  2.5  2.4  14.7  \n",
       "5932  0.8  3.3  4.0  6.9  1.6  0.2  3.1  2.5  22.9  \n",
       "6414  0.6  3.7  4.3  8.5  1.6  0.2  3.8  2.5  24.0  \n",
       "6896  0.7  3.6  4.3  7.7  2.0  0.2  3.1  2.0  23.8  \n",
       "7381  0.9  4.6  5.4  6.7  2.1  0.2  3.3  2.0  30.1  \n",
       "7850  0.8  3.7  4.5  6.6  1.8  0.2  3.0  2.3  25.3  \n",
       "8358  0.7  4.4  5.1  6.1  1.6  0.2  3.0  2.2  26.4  \n",
       "8902  0.7  4.7  5.3  5.2  1.3  0.4  2.8  2.4  27.3  \n",
       "9429  0.8  4.4  5.2  6.6  1.0  0.4  3.2  2.2  20.8  \n",
       "\n",
       "[11 rows x 29 columns]"
      ]
     },
     "execution_count": 21,
     "metadata": {},
     "output_type": "execute_result"
    }
   ],
   "source": [
    "#Stats DataFrame Verification\n",
    "stats[stats['Player'].str.contains('Stephen Curry')]"
   ]
  },
  {
   "cell_type": "markdown",
   "metadata": {
    "slideshow": {
     "slide_type": "slide"
    }
   },
   "source": [
    "#### Combine both the salary and stats dataframe."
   ]
  },
  {
   "cell_type": "code",
   "execution_count": 22,
   "metadata": {
    "slideshow": {
     "slide_type": "subslide"
    }
   },
   "outputs": [
    {
     "data": {
      "text/plain": [
       "(10319, 30)"
      ]
     },
     "execution_count": 22,
     "metadata": {},
     "output_type": "execute_result"
    }
   ],
   "source": [
    "df = pd.merge(salary,stats,on=['Player','Year'],how='left')\n",
    "df.shape"
   ]
  },
  {
   "cell_type": "code",
   "execution_count": 23,
   "metadata": {
    "scrolled": true,
    "slideshow": {
     "slide_type": "skip"
    }
   },
   "outputs": [],
   "source": [
    "#Drop the values with NA, as most of them are rookies with contracts.\n",
    "df=df.dropna(axis='rows').reset_index(drop=True)"
   ]
  },
  {
   "cell_type": "code",
   "execution_count": 24,
   "metadata": {
    "slideshow": {
     "slide_type": "skip"
    }
   },
   "outputs": [
    {
     "data": {
      "text/plain": [
       "Player    0\n",
       "Year      0\n",
       "Salary    0\n",
       "POS       0\n",
       "Age       0\n",
       "TM        0\n",
       "GP        0\n",
       "GS        0\n",
       "MP        0\n",
       "FGM       0\n",
       "FGA       0\n",
       "FG%       0\n",
       "3PM       0\n",
       "3PA       0\n",
       "3P%       0\n",
       "2PM       0\n",
       "2PA       0\n",
       "2P%       0\n",
       "FTM       0\n",
       "FTA       0\n",
       "FT%       0\n",
       "ORB       0\n",
       "DRB       0\n",
       "REB       0\n",
       "AST       0\n",
       "STL       0\n",
       "BLK       0\n",
       "TOV       0\n",
       "PF        0\n",
       "PTS       0\n",
       "dtype: int64"
      ]
     },
     "execution_count": 24,
     "metadata": {},
     "output_type": "execute_result"
    }
   ],
   "source": [
    "#Check for null values that resulted from our join method.\n",
    "df.isnull().sum()"
   ]
  },
  {
   "cell_type": "markdown",
   "metadata": {
    "slideshow": {
     "slide_type": "slide"
    }
   },
   "source": [
    "#### When a person gets traded to another team during the season, there is a high chance he will change position as well, depending how the team acquiring him will utilize him within the team. For example, Robert Covington was regarded as a Small Forward on the Philadelphia 76ers, but he became a Center when he was traded to the Houston Rockets in 2019.  <br><br> Thus, we will take the 1st position, as this was their original position associated with their salary for the start of the season."
   ]
  },
  {
   "cell_type": "code",
   "execution_count": 25,
   "metadata": {
    "slideshow": {
     "slide_type": "subslide"
    }
   },
   "outputs": [
    {
     "data": {
      "text/plain": [
       "SG       1570\n",
       "PG       1434\n",
       "SF       1347\n",
       "PF       1336\n",
       "C         997\n",
       "PG-SG      22\n",
       "SF-SG      22\n",
       "C-PF       13\n",
       "PF-SF      12\n",
       "SF-PF      12\n",
       "PF-C       12\n",
       "SG-PG      11\n",
       "SG-SF       9\n",
       "SG-PF       4\n",
       "PG-SF       1\n",
       "SF-C        1\n",
       "Name: POS, dtype: int64"
      ]
     },
     "execution_count": 25,
     "metadata": {},
     "output_type": "execute_result"
    }
   ],
   "source": [
    "df['POS'].value_counts()"
   ]
  },
  {
   "cell_type": "code",
   "execution_count": 26,
   "metadata": {
    "slideshow": {
     "slide_type": "subslide"
    }
   },
   "outputs": [
    {
     "data": {
      "text/plain": [
       "SG    1594\n",
       "PG    1457\n",
       "SF    1382\n",
       "PF    1360\n",
       "C     1010\n",
       "Name: POS, dtype: int64"
      ]
     },
     "execution_count": 26,
     "metadata": {},
     "output_type": "execute_result"
    }
   ],
   "source": [
    "df['POS']=df['POS'].str.split(\"-\",expand=True)[0]\n",
    "df['POS'].value_counts()"
   ]
  },
  {
   "cell_type": "markdown",
   "metadata": {
    "slideshow": {
     "slide_type": "slide"
    }
   },
   "source": [
    "#### Compare the average salaries, and 3 pointers made (3PM) throughout the past 20 years."
   ]
  },
  {
   "cell_type": "code",
   "execution_count": 20,
   "metadata": {
    "slideshow": {
     "slide_type": "skip"
    }
   },
   "outputs": [
    {
     "data": {
      "text/html": [
       "<div>\n",
       "<style scoped>\n",
       "    .dataframe tbody tr th:only-of-type {\n",
       "        vertical-align: middle;\n",
       "    }\n",
       "\n",
       "    .dataframe tbody tr th {\n",
       "        vertical-align: top;\n",
       "    }\n",
       "\n",
       "    .dataframe thead th {\n",
       "        text-align: right;\n",
       "    }\n",
       "</style>\n",
       "<table border=\"1\" class=\"dataframe\">\n",
       "  <thead>\n",
       "    <tr style=\"text-align: right;\">\n",
       "      <th></th>\n",
       "      <th></th>\n",
       "      <th>mean</th>\n",
       "    </tr>\n",
       "    <tr>\n",
       "      <th>Year</th>\n",
       "      <th>POS</th>\n",
       "      <th></th>\n",
       "    </tr>\n",
       "  </thead>\n",
       "  <tbody>\n",
       "    <tr>\n",
       "      <th rowspan=\"5\" valign=\"top\">2000</th>\n",
       "      <th>C</th>\n",
       "      <td>9.298772</td>\n",
       "    </tr>\n",
       "    <tr>\n",
       "      <th>PF</th>\n",
       "      <td>7.549561</td>\n",
       "    </tr>\n",
       "    <tr>\n",
       "      <th>PG</th>\n",
       "      <td>4.681793</td>\n",
       "    </tr>\n",
       "    <tr>\n",
       "      <th>SF</th>\n",
       "      <td>5.077988</td>\n",
       "    </tr>\n",
       "    <tr>\n",
       "      <th>SG</th>\n",
       "      <td>5.343863</td>\n",
       "    </tr>\n",
       "    <tr>\n",
       "      <th>...</th>\n",
       "      <th>...</th>\n",
       "      <td>...</td>\n",
       "    </tr>\n",
       "    <tr>\n",
       "      <th rowspan=\"5\" valign=\"top\">2020</th>\n",
       "      <th>C</th>\n",
       "      <td>7.960117</td>\n",
       "    </tr>\n",
       "    <tr>\n",
       "      <th>PF</th>\n",
       "      <td>8.786709</td>\n",
       "    </tr>\n",
       "    <tr>\n",
       "      <th>PG</th>\n",
       "      <td>11.947412</td>\n",
       "    </tr>\n",
       "    <tr>\n",
       "      <th>SF</th>\n",
       "      <td>7.834022</td>\n",
       "    </tr>\n",
       "    <tr>\n",
       "      <th>SG</th>\n",
       "      <td>7.181959</td>\n",
       "    </tr>\n",
       "  </tbody>\n",
       "</table>\n",
       "<p>105 rows × 1 columns</p>\n",
       "</div>"
      ],
      "text/plain": [
       "               mean\n",
       "Year POS           \n",
       "2000 C     9.298772\n",
       "     PF    7.549561\n",
       "     PG    4.681793\n",
       "     SF    5.077988\n",
       "     SG    5.343863\n",
       "...             ...\n",
       "2020 C     7.960117\n",
       "     PF    8.786709\n",
       "     PG   11.947412\n",
       "     SF    7.834022\n",
       "     SG    7.181959\n",
       "\n",
       "[105 rows x 1 columns]"
      ]
     },
     "execution_count": 20,
     "metadata": {},
     "output_type": "execute_result"
    }
   ],
   "source": [
    "# mean salaries is in millions.\n",
    "df.groupby(['Year','POS'])['Salary'].agg(['mean']) "
   ]
  },
  {
   "cell_type": "markdown",
   "metadata": {
    "slideshow": {
     "slide_type": "subslide"
    }
   },
   "source": [
    "#### Plot the average salary for each position throughout the years."
   ]
  },
  {
   "cell_type": "code",
   "execution_count": 27,
   "metadata": {
    "scrolled": false,
    "slideshow": {
     "slide_type": "subslide"
    }
   },
   "outputs": [
    {
     "data": {
      "image/png": "[encoded data removed]",
      "text/plain": [
       "<Figure size 1080x432 with 1 Axes>"
      ]
     },
     "metadata": {
      "needs_background": "light"
     },
     "output_type": "display_data"
    }
   ],
   "source": [
    "fig, ax = plt.subplots(figsize=(15,6));\n",
    "\n",
    "\n",
    "df.groupby(['Year','POS'])['Salary'].agg(['mean']).unstack().plot(ax=ax,kind='line');\n",
    "ax.xaxis.set_major_locator(MaxNLocator(integer=True)) #set xticklabel to integer.\n",
    "\n",
    "#Try to make hover show the values as well.\n",
    "ax.set_xlabel(\"Year\");\n",
    "ax.set_ylabel(\"Average Salary\");"
   ]
  },
  {
   "cell_type": "markdown",
   "metadata": {
    "slideshow": {
     "slide_type": "subslide"
    }
   },
   "source": [
    "#### Findings:\n",
    "PG Salary ranked from lowest in 2000 to highest in 2020.<br>\n",
    "C Salary ranked from highest in 2000 to close to bottom in 2020. "
   ]
  },
  {
   "cell_type": "markdown",
   "metadata": {
    "slideshow": {
     "slide_type": "subslide"
    }
   },
   "source": [
    "#### Let's check the average 3 pointers made for each position as well."
   ]
  },
  {
   "cell_type": "code",
   "execution_count": 30,
   "metadata": {
    "slideshow": {
     "slide_type": "subslide"
    }
   },
   "outputs": [
    {
     "data": {
      "image/png": "[encoded data removed]",
      "text/plain": [
       "<Figure size 1080x432 with 1 Axes>"
      ]
     },
     "metadata": {
      "needs_background": "light"
     },
     "output_type": "display_data"
    }
   ],
   "source": [
    "fig, ax = plt.subplots(figsize=(15,6));\n",
    "df.groupby(['Year','POS'])['3PM'].agg(['mean']).unstack().plot(ax=ax,kind='line');\n",
    "ax.xaxis.set_major_locator(MaxNLocator(integer=True)) #set xticklabel to integer.\n",
    "ax.set_xlabel(\"Year\");\n",
    "ax.set_ylabel(\"Average 3PM\");"
   ]
  },
  {
   "cell_type": "markdown",
   "metadata": {
    "slideshow": {
     "slide_type": "subslide"
    }
   },
   "source": [
    "#### Findings:\n",
    "The average salary of Point Guards dramatically increased from 2000.<br>\n",
    "The average salary of Centers was ranked one of the highest in early 2000, but seen a sharp decrease in 2019."
   ]
  },
  {
   "cell_type": "markdown",
   "metadata": {
    "slideshow": {
     "slide_type": "slide"
    }
   },
   "source": [
    "## Machine Learning Models\n",
    "<a id=\"machine-learning\"></a>\n",
    "\n",
    "Even though we have data from 2000, multiple dynamics have changed - 3 pointers have become more apparent.<br>\n",
    "Fewer people are attempting mid-range jumpshots.<br>\n",
    "Thus, I will use 2 different datasets to predict the salary using 3 machine learning models, and compare them against Stephen Curry's current salary of 43 million USD:<br> \n",
    "- (1)the past 5 years' dataset, and \n",
    "- (2) the whole dataset<br>\n"
   ]
  },
  {
   "cell_type": "markdown",
   "metadata": {
    "slideshow": {
     "slide_type": "subslide"
    }
   },
   "source": [
    "#### Create a dataframe for the past 5 years"
   ]
  },
  {
   "cell_type": "code",
   "execution_count": 32,
   "metadata": {
    "slideshow": {
     "slide_type": "subslide"
    }
   },
   "outputs": [],
   "source": [
    "#Create a recent years dataframe.\n",
    "lastfiveyears_df=df[df.Year>=2015]"
   ]
  },
  {
   "cell_type": "markdown",
   "metadata": {
    "slideshow": {
     "slide_type": "subslide"
    }
   },
   "source": [
    "#### Since there are many confounding variables between one another, let's include the basic stats that dictate a player's performance. They are independent from one another, and are the preliminary indicators in a score stat sheet.\n",
    "FG%, FT%, 3PM, PTS, REB,AST,STL,BLK,TOV,PF"
   ]
  },
  {
   "cell_type": "code",
   "execution_count": 34,
   "metadata": {
    "slideshow": {
     "slide_type": "subslide"
    }
   },
   "outputs": [
    {
     "data": {
      "text/html": [
       "<div>\n",
       "<style scoped>\n",
       "    .dataframe tbody tr th:only-of-type {\n",
       "        vertical-align: middle;\n",
       "    }\n",
       "\n",
       "    .dataframe tbody tr th {\n",
       "        vertical-align: top;\n",
       "    }\n",
       "\n",
       "    .dataframe thead th {\n",
       "        text-align: right;\n",
       "    }\n",
       "</style>\n",
       "<table border=\"1\" class=\"dataframe\">\n",
       "  <thead>\n",
       "    <tr style=\"text-align: right;\">\n",
       "      <th></th>\n",
       "      <th>Player</th>\n",
       "      <th>Year</th>\n",
       "      <th>Salary</th>\n",
       "      <th>POS</th>\n",
       "      <th>Age</th>\n",
       "      <th>TM</th>\n",
       "      <th>GP</th>\n",
       "      <th>GS</th>\n",
       "      <th>MP</th>\n",
       "      <th>FGM</th>\n",
       "      <th>...</th>\n",
       "      <th>FT%</th>\n",
       "      <th>ORB</th>\n",
       "      <th>DRB</th>\n",
       "      <th>REB</th>\n",
       "      <th>AST</th>\n",
       "      <th>STL</th>\n",
       "      <th>BLK</th>\n",
       "      <th>TOV</th>\n",
       "      <th>PF</th>\n",
       "      <th>PTS</th>\n",
       "    </tr>\n",
       "  </thead>\n",
       "  <tbody>\n",
       "    <tr>\n",
       "      <th>4659</th>\n",
       "      <td>Kobe Bryant</td>\n",
       "      <td>2015</td>\n",
       "      <td>26.486180</td>\n",
       "      <td>SG</td>\n",
       "      <td>36.0</td>\n",
       "      <td>LAL</td>\n",
       "      <td>35.0</td>\n",
       "      <td>35.0</td>\n",
       "      <td>34.5</td>\n",
       "      <td>7.6</td>\n",
       "      <td>...</td>\n",
       "      <td>0.813</td>\n",
       "      <td>0.7</td>\n",
       "      <td>4.9</td>\n",
       "      <td>5.7</td>\n",
       "      <td>5.6</td>\n",
       "      <td>1.3</td>\n",
       "      <td>0.2</td>\n",
       "      <td>3.7</td>\n",
       "      <td>1.9</td>\n",
       "      <td>22.3</td>\n",
       "    </tr>\n",
       "    <tr>\n",
       "      <th>4660</th>\n",
       "      <td>LeBron James</td>\n",
       "      <td>2015</td>\n",
       "      <td>24.336032</td>\n",
       "      <td>SF</td>\n",
       "      <td>30.0</td>\n",
       "      <td>CLE</td>\n",
       "      <td>69.0</td>\n",
       "      <td>69.0</td>\n",
       "      <td>36.1</td>\n",
       "      <td>9.0</td>\n",
       "      <td>...</td>\n",
       "      <td>0.710</td>\n",
       "      <td>0.7</td>\n",
       "      <td>5.3</td>\n",
       "      <td>6.0</td>\n",
       "      <td>7.4</td>\n",
       "      <td>1.6</td>\n",
       "      <td>0.7</td>\n",
       "      <td>3.9</td>\n",
       "      <td>2.0</td>\n",
       "      <td>25.3</td>\n",
       "    </tr>\n",
       "    <tr>\n",
       "      <th>4661</th>\n",
       "      <td>Carmelo Anthony</td>\n",
       "      <td>2015</td>\n",
       "      <td>24.234855</td>\n",
       "      <td>SF</td>\n",
       "      <td>30.0</td>\n",
       "      <td>NYK</td>\n",
       "      <td>40.0</td>\n",
       "      <td>40.0</td>\n",
       "      <td>35.7</td>\n",
       "      <td>9.0</td>\n",
       "      <td>...</td>\n",
       "      <td>0.797</td>\n",
       "      <td>1.8</td>\n",
       "      <td>4.8</td>\n",
       "      <td>6.6</td>\n",
       "      <td>3.1</td>\n",
       "      <td>1.0</td>\n",
       "      <td>0.4</td>\n",
       "      <td>2.2</td>\n",
       "      <td>2.2</td>\n",
       "      <td>24.2</td>\n",
       "    </tr>\n",
       "    <tr>\n",
       "      <th>4662</th>\n",
       "      <td>Dwight Howard</td>\n",
       "      <td>2015</td>\n",
       "      <td>23.688566</td>\n",
       "      <td>C</td>\n",
       "      <td>29.0</td>\n",
       "      <td>HOU</td>\n",
       "      <td>41.0</td>\n",
       "      <td>41.0</td>\n",
       "      <td>29.8</td>\n",
       "      <td>6.1</td>\n",
       "      <td>...</td>\n",
       "      <td>0.528</td>\n",
       "      <td>2.7</td>\n",
       "      <td>7.8</td>\n",
       "      <td>10.5</td>\n",
       "      <td>1.2</td>\n",
       "      <td>0.7</td>\n",
       "      <td>1.3</td>\n",
       "      <td>2.8</td>\n",
       "      <td>3.3</td>\n",
       "      <td>15.8</td>\n",
       "    </tr>\n",
       "    <tr>\n",
       "      <th>4663</th>\n",
       "      <td>Joe Johnson</td>\n",
       "      <td>2015</td>\n",
       "      <td>23.635572</td>\n",
       "      <td>SG</td>\n",
       "      <td>33.0</td>\n",
       "      <td>BRK</td>\n",
       "      <td>80.0</td>\n",
       "      <td>80.0</td>\n",
       "      <td>34.9</td>\n",
       "      <td>5.6</td>\n",
       "      <td>...</td>\n",
       "      <td>0.801</td>\n",
       "      <td>0.7</td>\n",
       "      <td>4.1</td>\n",
       "      <td>4.8</td>\n",
       "      <td>3.7</td>\n",
       "      <td>0.7</td>\n",
       "      <td>0.2</td>\n",
       "      <td>1.7</td>\n",
       "      <td>1.5</td>\n",
       "      <td>14.4</td>\n",
       "    </tr>\n",
       "  </tbody>\n",
       "</table>\n",
       "<p>5 rows × 30 columns</p>\n",
       "</div>"
      ],
      "text/plain": [
       "               Player  Year     Salary POS   Age   TM    GP    GS    MP  FGM  \\\n",
       "4659      Kobe Bryant  2015  26.486180  SG  36.0  LAL  35.0  35.0  34.5  7.6   \n",
       "4660     LeBron James  2015  24.336032  SF  30.0  CLE  69.0  69.0  36.1  9.0   \n",
       "4661  Carmelo Anthony  2015  24.234855  SF  30.0  NYK  40.0  40.0  35.7  9.0   \n",
       "4662    Dwight Howard  2015  23.688566   C  29.0  HOU  41.0  41.0  29.8  6.1   \n",
       "4663      Joe Johnson  2015  23.635572  SG  33.0  BRK  80.0  80.0  34.9  5.6   \n",
       "\n",
       "      ...    FT%  ORB  DRB   REB  AST  STL  BLK  TOV   PF   PTS  \n",
       "4659  ...  0.813  0.7  4.9   5.7  5.6  1.3  0.2  3.7  1.9  22.3  \n",
       "4660  ...  0.710  0.7  5.3   6.0  7.4  1.6  0.7  3.9  2.0  25.3  \n",
       "4661  ...  0.797  1.8  4.8   6.6  3.1  1.0  0.4  2.2  2.2  24.2  \n",
       "4662  ...  0.528  2.7  7.8  10.5  1.2  0.7  1.3  2.8  3.3  15.8  \n",
       "4663  ...  0.801  0.7  4.1   4.8  3.7  0.7  0.2  1.7  1.5  14.4  \n",
       "\n",
       "[5 rows x 30 columns]"
      ]
     },
     "execution_count": 34,
     "metadata": {},
     "output_type": "execute_result"
    }
   ],
   "source": [
    "lastfiveyears_df.head()"
   ]
  },
  {
   "cell_type": "markdown",
   "metadata": {
    "slideshow": {
     "slide_type": "slide"
    }
   },
   "source": [
    "### 1. Linear Regression Model: \n",
    "<a id=\"linear-regression\"></a>\n",
    "- Create a feature column.\n",
    "- Apply feature scaling\n",
    "- Preliminary Regression Model\n",
    "- K-Fold Cross Validation (5)"
   ]
  },
  {
   "cell_type": "code",
   "execution_count": 184,
   "metadata": {
    "slideshow": {
     "slide_type": "subslide"
    }
   },
   "outputs": [
    {
     "data": {
      "image/png": "[encoded data removed]",
      "text/plain": [
       "<Figure size 1080x432 with 1 Axes>"
      ]
     },
     "metadata": {
      "needs_background": "light"
     },
     "output_type": "display_data"
    }
   ],
   "source": [
    "#Create a list of features\n",
    "feature_cols=['PTS','FG%','FT%','3PM','AST','REB','STL','BLK','TOV','PF']\n",
    "\n",
    "#Distribution of Points\n",
    "fig, ax = plt.subplots(figsize=(15,6));\n",
    "df.PTS.hist(bins=20);\n",
    "ax.set_xlabel(\"Average Points\");\n",
    "ax.set_ylabel(\"Frequency\");"
   ]
  },
  {
   "cell_type": "code",
   "execution_count": 120,
   "metadata": {
    "slideshow": {
     "slide_type": "subslide"
    }
   },
   "outputs": [],
   "source": [
    "#Create X and Y\n",
    "X_5 = lastfiveyears_df[feature_cols]\n",
    "y_5 = lastfiveyears_df.Salary\n",
    "\n",
    "X = df[feature_cols]\n",
    "y = df.Salary"
   ]
  },
  {
   "cell_type": "markdown",
   "metadata": {
    "slideshow": {
     "slide_type": "subslide"
    }
   },
   "source": [
    "#### Preliminary Linear Regression Model"
   ]
  },
  {
   "cell_type": "markdown",
   "metadata": {
    "slideshow": {
     "slide_type": "subslide"
    }
   },
   "source": [
    "Do a Train Test Split with size 0.2"
   ]
  },
  {
   "cell_type": "code",
   "execution_count": 121,
   "metadata": {
    "slideshow": {
     "slide_type": "subslide"
    }
   },
   "outputs": [],
   "source": [
    "#for df\n",
    "X_train, X_test, y_train, y_test = train_test_split(X, y, test_size=0.2, random_state=123)\n",
    "\n",
    "#for 5 years df\n",
    "X_5_train, X_5_test, y_5_train, y_5_test = train_test_split(X_5, y_5, test_size=0.2, random_state=123)"
   ]
  },
  {
   "cell_type": "code",
   "execution_count": 122,
   "metadata": {
    "scrolled": true,
    "slideshow": {
     "slide_type": "subslide"
    }
   },
   "outputs": [
    {
     "name": "stdout",
     "output_type": "stream",
     "text": [
      "R^2-value for df:0.552\n",
      "R^2-value for 5 years df:0.612\n"
     ]
    }
   ],
   "source": [
    "linreg = LinearRegression()\n",
    "linreg_5 = LinearRegression()\n",
    "linreg.fit(X_train,y_train)\n",
    "linreg_5.fit(X_5_train,y_5_train)\n",
    "score = linreg.score(X_test, y_test)\n",
    "score_5 = linreg_5.score(X_5_test, y_5_test)\n",
    "print(\"R^2-value for df:{}\".format(round(score,3)))\n",
    "print(\"R^2-value for 5 years df:{}\".format(round(score_5,3)))"
   ]
  },
  {
   "cell_type": "code",
   "execution_count": 123,
   "metadata": {
    "scrolled": true,
    "slideshow": {
     "slide_type": "subslide"
    }
   },
   "outputs": [
    {
     "name": "stdout",
     "output_type": "stream",
     "text": [
      "Intercept: 1.31\n",
      "Coefficient for PTS: 0.5381964974465909\n",
      "Coefficient for FG%: -1.7998946394719206\n",
      "Coefficient for FT%: -1.9146104449784058\n",
      "Coefficient for 3PM: 1.0323162011984055\n",
      "Coefficient for AST: 0.8288080829790927\n",
      "Coefficient for REB: 0.806337407102995\n",
      "Coefficient for STL: -1.2300809879615724\n",
      "Coefficient for BLK: 1.1178568046805735\n",
      "Coefficient for TOV: -0.8627694458879376\n",
      "Coefficient for PF: -0.9772292576916762\n",
      "\n",
      "\n",
      "Intercept_5: -0.729\n",
      "Coefficient for PTS_5: 0.6477357667088811\n",
      "Coefficient for FG%_5: 0.029507624033217494\n",
      "Coefficient for FT%_5: -1.44265424771588\n",
      "Coefficient for 3PM_5: 1.2851157239993904\n",
      "Coefficient for AST_5: 1.3248349044010777\n",
      "Coefficient for REB_5: 1.0876671159852525\n",
      "Coefficient for STL_5: 0.4105021009800016\n",
      "Coefficient for BLK_5: 1.1595977391634953\n",
      "Coefficient for TOV_5: -1.9350150422166195\n",
      "Coefficient for PF_5: -1.8361379887487637\n"
     ]
    }
   ],
   "source": [
    "#for df\n",
    "print('Intercept: {}'.format(round(linreg.intercept_,3)))\n",
    "for i, j in list(zip(feature_cols,linreg.coef_)):\n",
    "    print('Coefficient for {}: {}'.format(i,j))\n",
    "print('\\n')\n",
    "#for 5 years df\n",
    "print('Intercept_5: {}'.format(round(linreg_5.intercept_,3)))\n",
    "for i, j in list(zip(feature_cols,linreg_5.coef_)):\n",
    "    print('Coefficient for {}_5: {}'.format(i,j))"
   ]
  },
  {
   "cell_type": "markdown",
   "metadata": {
    "slideshow": {
     "slide_type": "subslide"
    }
   },
   "source": [
    "Findings:\n",
    "- Points, 3 pointers made, as well as assists, matter more significantly for the past 5 years."
   ]
  },
  {
   "cell_type": "markdown",
   "metadata": {
    "slideshow": {
     "slide_type": "subslide"
    }
   },
   "source": [
    "#### Create Train/Test Split: K-Folds Cross (5)"
   ]
  },
  {
   "cell_type": "code",
   "execution_count": 124,
   "metadata": {
    "slideshow": {
     "slide_type": "subslide"
    }
   },
   "outputs": [
    {
     "name": "stdout",
     "output_type": "stream",
     "text": [
      "Mean squared error for df: 4.660007212530926\n",
      "Mean squared error for 5 years df: 5.483980585845383\n"
     ]
    }
   ],
   "source": [
    "scores = cross_val_score(linreg, X, y, cv=5, scoring='neg_mean_squared_error')\n",
    "scores_5 = cross_val_score(linreg_5, X_5, y_5, cv=5, scoring='neg_mean_squared_error')\n",
    "mse_error = np.mean(np.sqrt(-scores))\n",
    "mse_error_5 = np.mean(np.sqrt(-scores_5))\n",
    "print ('Mean squared error for df: {}'.format(mse_error))\n",
    "print ('Mean squared error for 5 years df: {}'.format(mse_error_5))"
   ]
  },
  {
   "cell_type": "markdown",
   "metadata": {
    "slideshow": {
     "slide_type": "subslide"
    }
   },
   "source": [
    "#### Compare Stephen Curry's stats this year and test it!\n",
    "*Note that Stephen Curry's salary is around 43 million USD. We compare it with our predicted salary through the machine learning models.*"
   ]
  },
  {
   "cell_type": "code",
   "execution_count": 126,
   "metadata": {
    "scrolled": true,
    "slideshow": {
     "slide_type": "subslide"
    }
   },
   "outputs": [
    {
     "name": "stdout",
     "output_type": "stream",
     "text": [
      "Through Linear Regression for the whole dataset of 20 years, predicted Salary for Stephen Curry is 21.29 million USD.\n",
      "Through Linear Regression for the past 5 years dataset, predicted Salary for Stephen Curry is 25.65 million USD.\n"
     ]
    }
   ],
   "source": [
    "#feature_cols=['PTS','FG%','FT%','3PM','AST','REB','STL','BLK','TOV','PF']\n",
    "steph_test = np.array([[27.9,0.453,0.926,4.2,6.2,5.6,1.2,0.2,3.4,2.3]])\n",
    "linreg.fit(X_train,y_train)\n",
    "steph_pred = linreg.predict(steph_test.reshape(1,-1))\n",
    "print('Through Linear Regression for the whole dataset of 20 years, predicted Salary for Stephen Curry is {} million USD.'.format(round(steph_pred[0],2)))\n",
    "steph_pred_5 = linreg_5.predict(steph_test.reshape(1,-1))\n",
    "print('Through Linear Regression for the past 5 years dataset, predicted Salary for Stephen Curry is {} million USD.'.format(round(steph_pred_5[0],2)))"
   ]
  },
  {
   "cell_type": "markdown",
   "metadata": {
    "slideshow": {
     "slide_type": "slide"
    }
   },
   "source": [
    "### 2. Random Forest Regression Model\n",
    "<a id=\"random-forest-regression\"></a>"
   ]
  },
  {
   "cell_type": "markdown",
   "metadata": {
    "slideshow": {
     "slide_type": "subslide"
    }
   },
   "source": [
    "#### Create Random Forest Regression Preliminary Model"
   ]
  },
  {
   "cell_type": "code",
   "execution_count": 128,
   "metadata": {
    "slideshow": {
     "slide_type": "subslide"
    }
   },
   "outputs": [
    {
     "data": {
      "text/plain": [
       "RandomForestRegressor(max_features=10, n_estimators=150, oob_score=True,\n",
       "                      random_state=123)"
      ]
     },
     "execution_count": 128,
     "metadata": {},
     "output_type": "execute_result"
    }
   ],
   "source": [
    "#Initiate the random forest regressor object.\n",
    "rfreg = RandomForestRegressor(n_estimators=150, max_features=10, oob_score=True, random_state=123)\n",
    "rfreg_5 = RandomForestRegressor(n_estimators=150, max_features=10, oob_score=True, random_state=123)\n",
    "rfreg.fit(X_train, y_train)\n",
    "rfreg_5.fit(X_5_train, y_5_train)\n"
   ]
  },
  {
   "cell_type": "markdown",
   "metadata": {
    "slideshow": {
     "slide_type": "subslide"
    }
   },
   "source": [
    "#### Compute feature importance"
   ]
  },
  {
   "cell_type": "code",
   "execution_count": 149,
   "metadata": {
    "slideshow": {
     "slide_type": "subslide"
    }
   },
   "outputs": [
    {
     "data": {
      "text/html": [
       "<table style=\"display:inline\" border=\"1\" class=\"dataframe\">\n",
       "  <thead>\n",
       "    <tr style=\"text-align: right;\">\n",
       "      <th></th>\n",
       "      <th>feature</th>\n",
       "      <th>importance</th>\n",
       "    </tr>\n",
       "  </thead>\n",
       "  <tbody>\n",
       "    <tr>\n",
       "      <th>0</th>\n",
       "      <td>PTS</td>\n",
       "      <td>0.496105</td>\n",
       "    </tr>\n",
       "    <tr>\n",
       "      <th>5</th>\n",
       "      <td>REB</td>\n",
       "      <td>0.090596</td>\n",
       "    </tr>\n",
       "    <tr>\n",
       "      <th>2</th>\n",
       "      <td>FT%</td>\n",
       "      <td>0.067682</td>\n",
       "    </tr>\n",
       "    <tr>\n",
       "      <th>4</th>\n",
       "      <td>AST</td>\n",
       "      <td>0.067349</td>\n",
       "    </tr>\n",
       "    <tr>\n",
       "      <th>1</th>\n",
       "      <td>FG%</td>\n",
       "      <td>0.061459</td>\n",
       "    </tr>\n",
       "    <tr>\n",
       "      <th>3</th>\n",
       "      <td>3PM</td>\n",
       "      <td>0.056719</td>\n",
       "    </tr>\n",
       "    <tr>\n",
       "      <th>9</th>\n",
       "      <td>PF</td>\n",
       "      <td>0.047752</td>\n",
       "    </tr>\n",
       "    <tr>\n",
       "      <th>8</th>\n",
       "      <td>TOV</td>\n",
       "      <td>0.038676</td>\n",
       "    </tr>\n",
       "    <tr>\n",
       "      <th>6</th>\n",
       "      <td>STL</td>\n",
       "      <td>0.038228</td>\n",
       "    </tr>\n",
       "    <tr>\n",
       "      <th>7</th>\n",
       "      <td>BLK</td>\n",
       "      <td>0.035433</td>\n",
       "    </tr>\n",
       "  </tbody>\n",
       "</table style=\"display:inline\"><table style=\"display:inline\" border=\"1\" class=\"dataframe\">\n",
       "  <thead>\n",
       "    <tr style=\"text-align: right;\">\n",
       "      <th></th>\n",
       "      <th>feature_5</th>\n",
       "      <th>importance_5</th>\n",
       "    </tr>\n",
       "  </thead>\n",
       "  <tbody>\n",
       "    <tr>\n",
       "      <th>0</th>\n",
       "      <td>PTS</td>\n",
       "      <td>0.557108</td>\n",
       "    </tr>\n",
       "    <tr>\n",
       "      <th>5</th>\n",
       "      <td>REB</td>\n",
       "      <td>0.080397</td>\n",
       "    </tr>\n",
       "    <tr>\n",
       "      <th>4</th>\n",
       "      <td>AST</td>\n",
       "      <td>0.062430</td>\n",
       "    </tr>\n",
       "    <tr>\n",
       "      <th>1</th>\n",
       "      <td>FG%</td>\n",
       "      <td>0.059430</td>\n",
       "    </tr>\n",
       "    <tr>\n",
       "      <th>2</th>\n",
       "      <td>FT%</td>\n",
       "      <td>0.056445</td>\n",
       "    </tr>\n",
       "    <tr>\n",
       "      <th>9</th>\n",
       "      <td>PF</td>\n",
       "      <td>0.043837</td>\n",
       "    </tr>\n",
       "    <tr>\n",
       "      <th>3</th>\n",
       "      <td>3PM</td>\n",
       "      <td>0.042510</td>\n",
       "    </tr>\n",
       "    <tr>\n",
       "      <th>7</th>\n",
       "      <td>BLK</td>\n",
       "      <td>0.036016</td>\n",
       "    </tr>\n",
       "    <tr>\n",
       "      <th>6</th>\n",
       "      <td>STL</td>\n",
       "      <td>0.032455</td>\n",
       "    </tr>\n",
       "    <tr>\n",
       "      <th>8</th>\n",
       "      <td>TOV</td>\n",
       "      <td>0.029372</td>\n",
       "    </tr>\n",
       "  </tbody>\n",
       "</table style=\"display:inline\">"
      ]
     },
     "metadata": {},
     "output_type": "display_data"
    }
   ],
   "source": [
    "rf=pd.DataFrame({'feature':feature_cols, 'importance':rfreg.feature_importances_}).sort_values(by='importance',ascending=False)\n",
    "rf_5=pd.DataFrame({'feature':feature_cols, 'importance':rfreg_5.feature_importances_}).sort_values(by='importance',ascending=False)\n",
    "rf_55 = rf_5.rename(columns={'feature':'feature_5','importance':'importance_5'})\n",
    "display_side_by_side(rf,rf_55)"
   ]
  },
  {
   "cell_type": "code",
   "execution_count": 153,
   "metadata": {
    "slideshow": {
     "slide_type": "subslide"
    }
   },
   "outputs": [
    {
     "name": "stdout",
     "output_type": "stream",
     "text": [
      "Oob-score:0.5206259196043708\n",
      "Oob-score_5:0.5674379902685704\n",
      "The accuracy score is much lesser than that of the linear regression model we have respectively (0.55, 0.612)\n"
     ]
    }
   ],
   "source": [
    "# Compute the out-of-bag R-squared score.\n",
    "print('Oob-score:{}'.format(rfreg.oob_score_))\n",
    "print('Oob-score_5:{}'.format(rfreg_5.oob_score_))\n",
    "print('The accuracy score is much lesser than that of the linear regression model we have respectively (0.55, 0.612)')"
   ]
  },
  {
   "cell_type": "markdown",
   "metadata": {
    "slideshow": {
     "slide_type": "subslide"
    }
   },
   "source": [
    "#### Do a 5-fold and compute the mean squared error. "
   ]
  },
  {
   "cell_type": "code",
   "execution_count": 154,
   "metadata": {
    "slideshow": {
     "slide_type": "subslide"
    }
   },
   "outputs": [
    {
     "name": "stdout",
     "output_type": "stream",
     "text": [
      "Mean squared error: 4.677191726814769\n",
      "Mean squared error for 5 years : 5.418962808018819\n"
     ]
    }
   ],
   "source": [
    "import numpy as np\n",
    "# Find the average RMSE.\n",
    "scores = cross_val_score(rfreg, X, y, cv=5, scoring='neg_mean_squared_error')\n",
    "scores_5 = cross_val_score(rfreg, X_5, y_5, cv=5, scoring='neg_mean_squared_error')\n",
    "mse_error = np.mean(np.sqrt(-scores))\n",
    "mse_error_5 = np.mean(np.sqrt(-scores_5))\n",
    "\n",
    "print ('Mean squared error: {}'.format(mse_error))\n",
    "print ('Mean squared error for 5 years : {}'.format(mse_error_5))"
   ]
  },
  {
   "cell_type": "markdown",
   "metadata": {
    "slideshow": {
     "slide_type": "subslide"
    }
   },
   "source": [
    "#### Note: Mean-squared error for the whole data set is larger than that of linear regression, while mean-squared error for the past 5 years is smaller than that of linear regression."
   ]
  },
  {
   "cell_type": "markdown",
   "metadata": {
    "slideshow": {
     "slide_type": "subslide"
    }
   },
   "source": [
    "### Hyperparameter Tuning"
   ]
  },
  {
   "cell_type": "markdown",
   "metadata": {
    "slideshow": {
     "slide_type": "subslide"
    }
   },
   "source": [
    "#### 1. Tuning n_estimators:"
   ]
  },
  {
   "cell_type": "code",
   "execution_count": 160,
   "metadata": {
    "slideshow": {
     "slide_type": "skip"
    }
   },
   "outputs": [],
   "source": [
    "estimator_range = list(range(10,310,10))\n",
    "\n",
    "#List to store the average RMSE for each value of n_estimators:\n",
    "RMSE_scores = []\n",
    "RMSE_scores_5 = []\n",
    "\n",
    "#Use five-fold cross-validation with each value of n_estimators:\n",
    "for estimator in estimator_range:\n",
    "    rfreg = RandomForestRegressor(n_estimators=estimator, random_state=1)\n",
    "    MSE_scores_5 = cross_val_score(rfreg, X_5, y_5, cv=5, scoring = 'neg_mean_squared_error')\n",
    "    RMSE_scores_5.append(np.mean(np.sqrt(-MSE_scores_5)))\n",
    "    \n",
    "# for estimator in estimator_range:\n",
    "#     rfreg_5 = RandomForestRegressor(n_estimators=estimator, random_state=1)\n",
    "#     MSE_scores_5 = cross_val_score(rfreg, X_5, y_5, cv=5, scoring = 'neg_mean_squared_error')\n",
    "#     RMSE_scores_5.append(np.mean(np.sqrt(-MSE_scores)))"
   ]
  },
  {
   "cell_type": "code",
   "execution_count": 145,
   "metadata": {
    "slideshow": {
     "slide_type": "skip"
    }
   },
   "outputs": [
    {
     "data": {
      "text/plain": [
       "dict_keys(['explained_variance', 'r2', 'neg_median_absolute_error', 'neg_mean_absolute_error', 'neg_mean_squared_error', 'neg_mean_squared_log_error', 'accuracy', 'roc_auc', 'balanced_accuracy', 'average_precision', 'neg_log_loss', 'brier_score_loss', 'adjusted_rand_score', 'homogeneity_score', 'completeness_score', 'v_measure_score', 'mutual_info_score', 'adjusted_mutual_info_score', 'normalized_mutual_info_score', 'fowlkes_mallows_score', 'precision', 'precision_macro', 'precision_micro', 'precision_samples', 'precision_weighted', 'recall', 'recall_macro', 'recall_micro', 'recall_samples', 'recall_weighted', 'f1', 'f1_macro', 'f1_micro', 'f1_samples', 'f1_weighted'])"
      ]
     },
     "execution_count": 145,
     "metadata": {},
     "output_type": "execute_result"
    }
   ],
   "source": [
    "metrics.SCORERS.keys()"
   ]
  },
  {
   "cell_type": "code",
   "execution_count": 161,
   "metadata": {
    "slideshow": {
     "slide_type": "subslide"
    }
   },
   "outputs": [
    {
     "data": {
      "image/png": "[encoded data removed]",
      "text/plain": [
       "<Figure size 1080x432 with 1 Axes>"
      ]
     },
     "metadata": {
      "needs_background": "light"
     },
     "output_type": "display_data"
    }
   ],
   "source": [
    "# Plot RMSE (y-axis) versus n_estimators (x-axis).\n",
    "\n",
    "# plt.plot(estimator_range, RMSE_scores);\n",
    "# plt.xlabel('n_estimators');\n",
    "# plt.ylabel('RMSE (lower is better)');\n",
    "\n",
    "plt.plot(estimator_range, RMSE_scores_5);\n",
    "plt.xlabel('n_estimators_5');\n",
    "plt.ylabel('RMSE_5 (lower is better)');"
   ]
  },
  {
   "cell_type": "code",
   "execution_count": 162,
   "metadata": {
    "slideshow": {
     "slide_type": "subslide"
    }
   },
   "outputs": [
    {
     "data": {
      "text/plain": [
       "(5.398326696613663, 270)"
      ]
     },
     "execution_count": 162,
     "metadata": {},
     "output_type": "execute_result"
    }
   ],
   "source": [
    "# Show the best RMSE and the corresponding max_features.\n",
    "#sorted(zip(RMSE_scores, estimator_range))[0]\n",
    "sorted(zip(RMSE_scores_5, estimator_range))[0]"
   ]
  },
  {
   "cell_type": "markdown",
   "metadata": {
    "slideshow": {
     "slide_type": "subslide"
    }
   },
   "source": [
    "Based from the results, we should set n_estimators to be 270."
   ]
  },
  {
   "cell_type": "markdown",
   "metadata": {
    "slideshow": {
     "slide_type": "subslide"
    }
   },
   "source": [
    "#### 2.Tuning max_features: "
   ]
  },
  {
   "cell_type": "code",
   "execution_count": 148,
   "metadata": {
    "slideshow": {
     "slide_type": "skip"
    }
   },
   "outputs": [],
   "source": [
    "feature_range = list(range(1,len(feature_cols)+1))\n",
    "\n",
    "#List to store the average RMSE for each value of max_feature:\n",
    "RMSE_scores = []\n",
    "\n",
    "#Use five-fold cross-validation with each value of max_feature:\n",
    "for feature in feature_range:\n",
    "    rfreg = RandomForestRegressor(n_estimators=150, max_features=feature, random_state=1)\n",
    "    MSE_scores = cross_val_score(rfreg, X, y, cv=5, scoring = 'neg_mean_squared_error')\n",
    "    RMSE_scores.append(np.mean(np.sqrt(-MSE_scores)))"
   ]
  },
  {
   "cell_type": "code",
   "execution_count": 150,
   "metadata": {
    "scrolled": true,
    "slideshow": {
     "slide_type": "subslide"
    }
   },
   "outputs": [
    {
     "data": {
      "image/png": "[encoded data removed]",
      "text/plain": [
       "<Figure size 1080x432 with 1 Axes>"
      ]
     },
     "metadata": {
      "needs_background": "light"
     },
     "output_type": "display_data"
    }
   ],
   "source": [
    "# Plot RMSE (y-axis) versus n_estimators (x-axis).\n",
    "\n",
    "plt.plot(feature_range, RMSE_scores);\n",
    "\n",
    "plt.xlabel('n_estimators');\n",
    "plt.ylabel('RMSE (lower is better)');"
   ]
  },
  {
   "cell_type": "code",
   "execution_count": null,
   "metadata": {
    "slideshow": {
     "slide_type": "subslide"
    }
   },
   "outputs": [],
   "source": [
    "sorted(zip(RMSE_scores, feature_range))[0]\n",
    "print('Seems like 3 is the ideal number of estimators we can have.')"
   ]
  },
  {
   "cell_type": "markdown",
   "metadata": {
    "slideshow": {
     "slide_type": "subslide"
    }
   },
   "source": [
    "#### *Again, predict Stephen Curry's salary!*"
   ]
  },
  {
   "cell_type": "code",
   "execution_count": 155,
   "metadata": {
    "slideshow": {
     "slide_type": "subslide"
    }
   },
   "outputs": [
    {
     "data": {
      "text/plain": [
       "RandomForestRegressor(bootstrap=True, criterion='mse', max_depth=None,\n",
       "           max_features=3, max_leaf_nodes=None, min_impurity_decrease=0.0,\n",
       "           min_impurity_split=None, min_samples_leaf=1,\n",
       "           min_samples_split=2, min_weight_fraction_leaf=0.0,\n",
       "           n_estimators=20, n_jobs=None, oob_score=True, random_state=1,\n",
       "           verbose=0, warm_start=False)"
      ]
     },
     "execution_count": 155,
     "metadata": {},
     "output_type": "execute_result"
    }
   ],
   "source": [
    "rfreg = RandomForestRegressor(n_estimators=20, max_features=3, oob_score=True, random_state=1)\n",
    "rfreg.fit(X, y)"
   ]
  },
  {
   "cell_type": "code",
   "execution_count": 156,
   "metadata": {
    "slideshow": {
     "slide_type": "subslide"
    }
   },
   "outputs": [
    {
     "name": "stdout",
     "output_type": "stream",
     "text": [
      "Through Random Forest Regression, predicted Salary for Stephen Curry is 30.25 million USD.\n"
     ]
    }
   ],
   "source": [
    "steph_pred = rfreg.predict(steph_test.reshape(1,-1))\n",
    "print('Through Random Forest Regression, predicted Salary for Stephen Curry is {} million USD.'.format(round(steph_pred[0],2)))"
   ]
  },
  {
   "cell_type": "markdown",
   "metadata": {
    "slideshow": {
     "slide_type": "slide"
    }
   },
   "source": [
    "### 3. Predicting Salary with XGBoost\n",
    "<a id=\"XGBoost-regression\"></a>"
   ]
  },
  {
   "cell_type": "markdown",
   "metadata": {
    "slideshow": {
     "slide_type": "subslide"
    }
   },
   "source": [
    "#### Preliminary XGBoost Model"
   ]
  },
  {
   "cell_type": "markdown",
   "metadata": {
    "slideshow": {
     "slide_type": "subslide"
    }
   },
   "source": [
    "Create a Data Matrix, and initiate the XGBRegressor object."
   ]
  },
  {
   "cell_type": "code",
   "execution_count": 163,
   "metadata": {
    "slideshow": {
     "slide_type": "subslide"
    }
   },
   "outputs": [],
   "source": [
    "data_dmatrix = xgb.DMatrix(data=X_5,label=y_5)"
   ]
  },
  {
   "cell_type": "markdown",
   "metadata": {
    "slideshow": {
     "slide_type": "subslide"
    }
   },
   "source": [
    "List Parameter Range for input into the RandomizedSearchCV function."
   ]
  },
  {
   "cell_type": "code",
   "execution_count": 210,
   "metadata": {
    "slideshow": {
     "slide_type": "subslide"
    }
   },
   "outputs": [],
   "source": [
    "params = {\n",
    "    \"learning_rate\": [0.05, 0.10, 0.15, 0.20, 0.25],\n",
    "    \"max_depth\": list(range(1,11,1)),\n",
    "     \"min_child_weight\": [1,3,5,7],\n",
    "     \"gamma\":[0.0,0.1,0.2,0.3,0.4],\n",
    "     \"colsample_bytree\":[0.1,0.2,0.3,0.4]\n",
    "}"
   ]
  },
  {
   "cell_type": "code",
   "execution_count": 257,
   "metadata": {
    "scrolled": true
   },
   "outputs": [
    {
     "name": "stdout",
     "output_type": "stream",
     "text": [
      "[18:22:50] WARNING: src/objective/regression_obj.cu:152: reg:linear is now deprecated in favor of reg:squarederror.\n"
     ]
    },
    {
     "data": {
      "text/plain": [
       "RandomizedSearchCV(cv=5, estimator=XGBRegressor(), n_jobs=-1,\n",
       "                   param_distributions={'colsample_bytree': [0.1, 0.2, 0.3,\n",
       "                                                             0.4],\n",
       "                                        'gamma': [0.0, 0.1, 0.2, 0.3, 0.4],\n",
       "                                        'learning_rate': [0.05, 0.1, 0.15, 0.2,\n",
       "                                                          0.25],\n",
       "                                        'max_depth': [1, 2, 3, 4, 5, 6, 7, 8, 9,\n",
       "                                                      10],\n",
       "                                        'min_child_weight': [1, 3, 5, 7]})"
      ]
     },
     "execution_count": 257,
     "metadata": {},
     "output_type": "execute_result"
    }
   ],
   "source": [
    "xgbr = XGBRegressor()\n",
    "random_search = RandomizedSearchCV(xgbr, param_distributions = params, n_iter = 10, n_jobs = -1,cv=5,verbose=0)\n",
    "random_search.fit(X_5,y_5)"
   ]
  },
  {
   "cell_type": "markdown",
   "metadata": {
    "slideshow": {
     "slide_type": "subslide"
    }
   },
   "source": [
    "Find the best parameters and use it to run the xgBoosting."
   ]
  },
  {
   "cell_type": "code",
   "execution_count": 217,
   "metadata": {
    "scrolled": true,
    "slideshow": {
     "slide_type": "subslide"
    }
   },
   "outputs": [
    {
     "data": {
      "text/plain": [
       "XGBRegressor(colsample_bytree=0.4, gamma=0.3, max_depth=7, min_child_weight=3)"
      ]
     },
     "execution_count": 217,
     "metadata": {},
     "output_type": "execute_result"
    }
   ],
   "source": [
    "random_search.best_estimator_"
   ]
  },
  {
   "cell_type": "code",
   "execution_count": 232,
   "metadata": {
    "scrolled": true,
    "slideshow": {
     "slide_type": "subslide"
    }
   },
   "outputs": [],
   "source": [
    "best_params = random_search.best_params_"
   ]
  },
  {
   "cell_type": "markdown",
   "metadata": {
    "slideshow": {
     "slide_type": "subslide"
    }
   },
   "source": [
    "Boost for 100 rounds with the best parameters chosen."
   ]
  },
  {
   "cell_type": "code",
   "execution_count": 245,
   "metadata": {
    "scrolled": true,
    "slideshow": {
     "slide_type": "subslide"
    }
   },
   "outputs": [
    {
     "data": {
      "text/html": [
       "<div>\n",
       "<style scoped>\n",
       "    .dataframe tbody tr th:only-of-type {\n",
       "        vertical-align: middle;\n",
       "    }\n",
       "\n",
       "    .dataframe tbody tr th {\n",
       "        vertical-align: top;\n",
       "    }\n",
       "\n",
       "    .dataframe thead th {\n",
       "        text-align: right;\n",
       "    }\n",
       "</style>\n",
       "<table border=\"1\" class=\"dataframe\">\n",
       "  <thead>\n",
       "    <tr style=\"text-align: right;\">\n",
       "      <th></th>\n",
       "      <th>train-rmse-mean</th>\n",
       "      <th>train-rmse-std</th>\n",
       "      <th>test-rmse-mean</th>\n",
       "      <th>test-rmse-std</th>\n",
       "    </tr>\n",
       "  </thead>\n",
       "  <tbody>\n",
       "    <tr>\n",
       "      <th>0</th>\n",
       "      <td>10.329466</td>\n",
       "      <td>0.053927</td>\n",
       "      <td>10.383705</td>\n",
       "      <td>0.219252</td>\n",
       "    </tr>\n",
       "    <tr>\n",
       "      <th>1</th>\n",
       "      <td>9.568111</td>\n",
       "      <td>0.048910</td>\n",
       "      <td>9.685135</td>\n",
       "      <td>0.215152</td>\n",
       "    </tr>\n",
       "    <tr>\n",
       "      <th>2</th>\n",
       "      <td>8.919424</td>\n",
       "      <td>0.051565</td>\n",
       "      <td>9.116577</td>\n",
       "      <td>0.198826</td>\n",
       "    </tr>\n",
       "    <tr>\n",
       "      <th>3</th>\n",
       "      <td>8.334500</td>\n",
       "      <td>0.043539</td>\n",
       "      <td>8.601779</td>\n",
       "      <td>0.210863</td>\n",
       "    </tr>\n",
       "    <tr>\n",
       "      <th>4</th>\n",
       "      <td>7.812209</td>\n",
       "      <td>0.044367</td>\n",
       "      <td>8.179823</td>\n",
       "      <td>0.225903</td>\n",
       "    </tr>\n",
       "  </tbody>\n",
       "</table>\n",
       "</div>"
      ],
      "text/plain": [
       "   train-rmse-mean  train-rmse-std  test-rmse-mean  test-rmse-std\n",
       "0        10.329466        0.053927       10.383705       0.219252\n",
       "1         9.568111        0.048910        9.685135       0.215152\n",
       "2         8.919424        0.051565        9.116577       0.198826\n",
       "3         8.334500        0.043539        8.601779       0.210863\n",
       "4         7.812209        0.044367        8.179823       0.225903"
      ]
     },
     "execution_count": 245,
     "metadata": {},
     "output_type": "execute_result"
    }
   ],
   "source": [
    "cv_results = xgb.cv(dtrain=data_dmatrix, params=best_params, nfold=5,\n",
    "                    num_boost_round=100,metrics=\"rmse\", as_pandas=True, seed=123)\n",
    "cv_results.head()"
   ]
  },
  {
   "cell_type": "code",
   "execution_count": 248,
   "metadata": {
    "slideshow": {
     "slide_type": "subslide"
    }
   },
   "outputs": [],
   "source": [
    "final_rmse = cv_results[\"test-rmse-mean\"].tail(1)"
   ]
  },
  {
   "cell_type": "code",
   "execution_count": 249,
   "metadata": {
    "scrolled": true,
    "slideshow": {
     "slide_type": "subslide"
    }
   },
   "outputs": [
    {
     "name": "stdout",
     "output_type": "stream",
     "text": [
      "RMSE: 5.476748\n",
      "Our RMSE is similar to that of the Random Forest Regression Model.\n"
     ]
    }
   ],
   "source": [
    "rmse = np.sqrt(metrics.mean_squared_error(y_test, preds))\n",
    "print(\"RMSE: %f\" % (final_rmse))\n",
    "print(\"Our RMSE is similar to that of the Random Forest Regression Model.\")"
   ]
  },
  {
   "cell_type": "markdown",
   "metadata": {
    "slideshow": {
     "slide_type": "subslide"
    }
   },
   "source": [
    "#### Now, we find Find the feature importance for the XGBR Model."
   ]
  },
  {
   "cell_type": "code",
   "execution_count": 260,
   "metadata": {
    "slideshow": {
     "slide_type": "subslide"
    }
   },
   "outputs": [
    {
     "data": {
      "image/png": "[encoded data removed]",
      "text/plain": [
       "<Figure size 1080x432 with 1 Axes>"
      ]
     },
     "metadata": {
      "needs_background": "light"
     },
     "output_type": "display_data"
    }
   ],
   "source": [
    "xgbr = XGBRegressor(colsample_bytree=0.4, gamma=0.3, max_depth=7, min_child_weight=3, silent=True )\n",
    "xgbr.fit(X_5_train, y_5_train)\n",
    "xgb.plot_importance(xgbr)\n",
    "plt.rcParams['figure.figsize'] = [5, 5]\n",
    "plt.show()"
   ]
  },
  {
   "cell_type": "markdown",
   "metadata": {
    "slideshow": {
     "slide_type": "subslide"
    }
   },
   "source": [
    "Seems like efficiency matters here!"
   ]
  },
  {
   "cell_type": "markdown",
   "metadata": {
    "slideshow": {
     "slide_type": "subslide"
    }
   },
   "source": [
    "#### *Again, we predict Steph's Salary!*"
   ]
  },
  {
   "cell_type": "code",
   "execution_count": 250,
   "metadata": {
    "slideshow": {
     "slide_type": "subslide"
    }
   },
   "outputs": [],
   "source": [
    "steph_test\n",
    "steph_df=pd.DataFrame(steph_test,columns=feature_cols)"
   ]
  },
  {
   "cell_type": "code",
   "execution_count": 255,
   "metadata": {
    "scrolled": true,
    "slideshow": {
     "slide_type": "subslide"
    }
   },
   "outputs": [
    {
     "name": "stdout",
     "output_type": "stream",
     "text": [
      "Through XGBoost Regression, predicted Salary for Stephen Curry is 26.649999618530273 million USD.\n"
     ]
    }
   ],
   "source": [
    "xgbr = XGBRegressor(colsample_bytree=0.4, gamma=0.3, max_depth=7, min_child_weight=3, silent=True )\n",
    "xgbr.fit(X_5_train, y_5_train)\n",
    "steph_pred = xgbr.predict(steph_df)\n",
    "steph_pred = round(steph_pred[0],2)\n",
    "print('Through XGBoost Regression, predicted Salary for Stephen Curry is {} million USD.'.format(steph_pred))"
   ]
  },
  {
   "cell_type": "markdown",
   "metadata": {
    "slideshow": {
     "slide_type": "slide"
    }
   },
   "source": [
    "<a id=\"conclusion\"></a>\n",
    "## Conclusion"
   ]
  },
  {
   "cell_type": "markdown",
   "metadata": {
    "slideshow": {
     "slide_type": "subslide"
    }
   },
   "source": [
    "- Random Forest seems to be the best model we have, as it is the one closest to Steph Curry's salary of 43 million USD.\n",
    "- It also has a very low RMSE, along XGBoost.\n",
    "- Improvements could be made:\n",
    "    - Salary (target data) distribution could be an exponential graph, so perhaps it would be better if we transform    it with Ln first\n",
    "- More advanced categories could be used instead. "
   ]
  },
  {
   "cell_type": "code",
   "execution_count": null,
   "metadata": {},
   "outputs": [],
   "source": []
  }
 ],
 "metadata": {
  "celltoolbar": "Slideshow",
  "kernelspec": {
   "display_name": "Python 3",
   "language": "python",
   "name": "python3"
  },
  "language_info": {
   "codemirror_mode": {
    "name": "ipython",
    "version": 3
   },
   "file_extension": ".py",
   "mimetype": "text/x-python",
   "name": "python",
   "nbconvert_exporter": "python",
   "pygments_lexer": "ipython3",
   "version": "3.7.3"
  }
 },
 "nbformat": 4,
 "nbformat_minor": 2
}